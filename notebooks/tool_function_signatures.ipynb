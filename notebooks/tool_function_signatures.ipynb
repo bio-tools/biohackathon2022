{
 "cells": [
  {
   "attachments": {},
   "cell_type": "markdown",
   "metadata": {},
   "source": [
    "# Tool function signature \n",
    "\n",
    "check if \"is_format_of\" relation in edam are confirmed in bio.tools"
   ]
  },
  {
   "cell_type": "code",
   "execution_count": null,
   "metadata": {},
   "outputs": [],
   "source": [
    "from rdflib import ConjunctiveGraph\n",
    "from SPARQLWrapper import SPARQLWrapper, JSON\n",
    "import matplotlib.pyplot as plt\n",
    "import numpy as np\n",
    "from IPython.display import display, HTML\n",
    "\n",
    "\n",
    "\n",
    "import pandas as pd\n",
    "\n",
    "def remoteQuery(query, endpoint):\n",
    "    endpoint.setQuery(query)\n",
    "    try:\n",
    "        result = endpoint.queryAndConvert()\n",
    "        pd.set_option(\"display.max_rows\",None,\"display.max_colwidth\",6000,\"display.width\",6000,)\n",
    "        df = pd.DataFrame(result['results']['bindings'])\n",
    "        df = df.applymap(lambda x: x['value'])\n",
    "        return df\n",
    "        #return (result['results']['bindings'])\n",
    "    except Exception as e:\n",
    "        print(e)\n",
    "\n",
    "ep_biotools = SPARQLWrapper(\"http://localhost:7200/repositories/Project25\")\n",
    "ep_biotools.setReturnFormat(JSON)"
   ]
  },
  {
   "cell_type": "code",
   "execution_count": null,
   "metadata": {},
   "outputs": [],
   "source": [
    "query_edam = \"\"\"\n",
    "PREFIX rdf: <http://www.w3.org/1999/02/22-rdf-syntax-ns#>\n",
    "PREFIX rdfs: <http://www.w3.org/2000/01/rdf-schema#>\n",
    "PREFIX sc: <http://schema.org/>\n",
    "PREFIX edam: <http://edamontology.org/>\n",
    "PREFIX owl: <http://www.w3.org/2002/07/owl#>\n",
    "\n",
    "\n",
    "SELECT DISTINCT  ?format ?data  WHERE {\n",
    "\n",
    "?format rdfs:subClassOf ?restriction . \n",
    "?restriction rdf:type owl:Restriction ; \n",
    "   owl:onProperty  edam:is_format_of ; \n",
    "   owl:someValuesFrom ?data.\n",
    "}\n",
    "ORDER BY ASC(?format)\n",
    "\n",
    "\"\"\"\n",
    "query_both = \"\"\"\n",
    "PREFIX rdf: <http://www.w3.org/1999/02/22-rdf-syntax-ns#>\n",
    "PREFIX rdfs: <http://www.w3.org/2000/01/rdf-schema#>\n",
    "PREFIX sc: <http://schema.org/>\n",
    "PREFIX edam: <http://edamontology.org/>\n",
    "PREFIX bsc: <http://bioschemas.org/>\n",
    "PREFIX owl: <http://www.w3.org/2002/07/owl#>\n",
    "\n",
    "\n",
    "SELECT DISTINCT  ?format ?data  WHERE {\n",
    "\n",
    "?biotools_id rdf:type sc:SoftwareApplication.\n",
    "{?biotools_id bsc:input [sc:additionalType ?data];\n",
    "               bsc:input [sc:encodingFormat ?format].}\n",
    "UNION\n",
    "{?biotools_id bsc:output [sc:additionalType ?data];\n",
    "               bsc:output [sc:encodingFormat ?format].}\n",
    "\n",
    "?format rdfs:subClassOf ?restriction . \n",
    "?restriction rdf:type owl:Restriction ; \n",
    "   owl:onProperty  edam:is_format_of ; \n",
    "   owl:someValuesFrom ?data.\n",
    "}\n",
    "ORDER BY ASC(?format)\n",
    "\n",
    "\"\"\"\n",
    "query_bt = \"\"\"\n",
    "PREFIX rdf: <http://www.w3.org/1999/02/22-rdf-syntax-ns#>\n",
    "PREFIX rdfs: <http://www.w3.org/2000/01/rdf-schema#>\n",
    "PREFIX sc: <http://schema.org/>\n",
    "PREFIX edam: <http://edamontology.org/>\n",
    "PREFIX bsc: <http://bioschemas.org/>\n",
    "PREFIX owl: <http://www.w3.org/2002/07/owl#>\n",
    "\n",
    "\n",
    "SELECT DISTINCT  ?format ?data  WHERE {\n",
    "\n",
    "?biotools_id rdf:type sc:SoftwareApplication.\n",
    "{?biotools_id bsc:input [sc:additionalType ?data];\n",
    "               bsc:input [sc:encodingFormat ?format].}\n",
    "UNION\n",
    "{?biotools_id bsc:output [sc:additionalType ?data];\n",
    "               bsc:output [sc:encodingFormat ?format].}\n",
    "\n",
    "}\n",
    "ORDER BY ASC(?format)\n",
    "\n",
    "\"\"\""
   ]
  },
  {
   "attachments": {},
   "cell_type": "markdown",
   "metadata": {},
   "source": [
    "nb tot format = 618"
   ]
  },
  {
   "cell_type": "code",
   "execution_count": null,
   "metadata": {},
   "outputs": [],
   "source": [
    "results_edam=remoteQuery(query=query_edam, endpoint=ep_biotools)\n",
    "print(len(results_edam))\n",
    "\n",
    "display(HTML(\"<div style='height: 200px; overflow: auto; width: fit-content'>\" +\n",
    "             results_edam.to_html() +\n",
    "             \"</div>\"))\n"
   ]
  },
  {
   "cell_type": "code",
   "execution_count": null,
   "metadata": {},
   "outputs": [],
   "source": [
    "results_both=remoteQuery(query=query_both, endpoint=ep_biotools)\n",
    "print(len(results_both))\n",
    "\n",
    "display(HTML(\"<div style='height: 200px; overflow: auto; width: fit-content'>\" +\n",
    "             results_both.to_html() +\n",
    "             \"</div>\"))"
   ]
  },
  {
   "cell_type": "code",
   "execution_count": null,
   "metadata": {},
   "outputs": [],
   "source": [
    "results_bt=remoteQuery(query=query_bt, endpoint=ep_biotools)\n",
    "print(len(results_bt))\n",
    "\n",
    "display(HTML(\"<div style='height: 200px; overflow: auto; width: fit-content'>\" +\n",
    "             results_bt.to_html() +\n",
    "             \"</div>\"))"
   ]
  },
  {
   "cell_type": "code",
   "execution_count": null,
   "metadata": {},
   "outputs": [],
   "source": [
    "from matplotlib_venn import venn2\n",
    "\n",
    "fig = plt.figure(figsize = (20, 10))\n",
    "fig.patch.set_facecolor('xkcd:white')\n",
    "fig.suptitle(\"Data/Format Relation correspondence between EDAM and Bio.tools\")\n",
    "\n",
    "size=len(results_bt)-len(results_both)+len(results_edam)\n",
    "\n",
    "v=venn2(subsets=(len(results_bt)-len(results_both),len(results_edam)-len(results_both), len(results_both)), set_labels=('In Bio.tools', 'In EDAM'), set_colors=(\"red\", \"blue\"))\n",
    "v.get_label_by_id('100').set_text(f\"{len(results_bt)}\\n({len(results_bt)/size*100:.1f}%)\")\n",
    "v.get_label_by_id('010').set_text(f\"{len(results_edam)}\\n({len(results_edam)/size*100:.1f}%)\")\n",
    "v.get_label_by_id('110').set_text(f\"{len(results_both)}\\n({len(results_both)/size*100:.1f}%)\")\n"
   ]
  },
  {
   "cell_type": "code",
   "execution_count": null,
   "metadata": {},
   "outputs": [],
   "source": []
  },
  {
   "cell_type": "code",
   "execution_count": null,
   "metadata": {},
   "outputs": [],
   "source": []
  }
 ],
 "metadata": {
  "kernelspec": {
   "display_name": "Python 3",
   "language": "python",
   "name": "python3"
  },
  "language_info": {
   "codemirror_mode": {
    "name": "ipython",
    "version": 3
   },
   "file_extension": ".py",
   "mimetype": "text/x-python",
   "name": "python",
   "nbconvert_exporter": "python",
   "pygments_lexer": "ipython3",
   "version": "3.9.5 (default, Nov 18 2021, 16:00:48) \n[GCC 10.3.0]"
  },
  "vscode": {
   "interpreter": {
    "hash": "31f2aee4e71d21fbe5cf8b01ff0e069b9275f58929596ceb00d14d90e3e16cd6"
   }
  }
 },
 "nbformat": 4,
 "nbformat_minor": 2
}
