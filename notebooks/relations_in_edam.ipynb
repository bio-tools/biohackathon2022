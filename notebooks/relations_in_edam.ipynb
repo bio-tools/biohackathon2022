{
 "cells": [
  {
   "cell_type": "markdown",
   "metadata": {},
   "source": [
    "## Set up\n",
    "First you need to install GraphDB locally on you machine\n"
   ]
  },
  {
   "cell_type": "code",
   "execution_count": null,
   "metadata": {},
   "outputs": [],
   "source": [
    "from rdflib import ConjunctiveGraph\n",
    "from SPARQLWrapper import SPARQLWrapper, JSON\n",
    "import matplotlib.pyplot as plt\n",
    "from matplotlib_venn import venn2\n",
    "import numpy as np\n",
    "from IPython.display import display, HTML\n",
    "\n",
    "\n",
    "import pandas as pd\n",
    "\n",
    "def remoteQuery(query, endpoint):\n",
    "    endpoint.setQuery(query)\n",
    "    try:\n",
    "        result = endpoint.queryAndConvert()\n",
    "        pd.set_option(\"display.max_rows\",None,\"display.max_colwidth\",6000,\"display.width\",6000,)\n",
    "        df = pd.DataFrame(result['results']['bindings'])\n",
    "        df = df.applymap(lambda x: x['value'])\n",
    "        return df\n",
    "        #return (result['results']['bindings'])\n",
    "    except Exception as e:\n",
    "        print(e)\n"
   ]
  },
  {
   "cell_type": "code",
   "execution_count": null,
   "metadata": {},
   "outputs": [],
   "source": [
    "ep_biotools = SPARQLWrapper(\"http://localhost:7200/repositories/Project25\")\n",
    "ep_biotools.setReturnFormat(JSON)"
   ]
  },
  {
   "cell_type": "markdown",
   "metadata": {},
   "source": [
    "## List all EDAM entities with relations (transitive)\n",
    "\n",
    "You can change the relation in the query in   `VALUES ?relation { xxxxxxx }` to : has_topic, has_output, has_input, is_format_of"
   ]
  },
  {
   "cell_type": "code",
   "execution_count": null,
   "metadata": {},
   "outputs": [],
   "source": [
    "q= \"\"\"\n",
    "PREFIX biotools: <https://bio.tools/ontology/>\n",
    "PREFIX bsc: <http://bioschemas.org/>\n",
    "PREFIX bsct: <http://bioschemas.org/types/>\n",
    "PREFIX dct: <http://purl.org/dc/terms/>\n",
    "PREFIX edam: <http://edamontology.org/>\n",
    "PREFIX owl: <http://www.w3.org/2002/07/owl#>\n",
    "PREFIX sc: <http://schema.org/>\n",
    "PREFIX rdf: <http://www.w3.org/1999/02/22-rdf-syntax-ns#>\n",
    "PREFIX rdfs: <http://www.w3.org/2000/01/rdf-schema#>\n",
    "PREFIX xsd: <http://www.w3.org/2001/XMLSchema#>\n",
    "\n",
    "SELECT\n",
    "    ?entity ?label\n",
    "    (COUNT(?target) as ?count)\n",
    "WHERE\n",
    "{\n",
    "    VALUES ?relation { edam:has_topic }\n",
    "    ?entity\n",
    "        rdfs:subClassOf [owl:onProperty ?relation ; owl:someValuesFrom ?target] ;\n",
    "        rdfs:label ?label .\n",
    "    ?target rdfs:label ?target_label .\n",
    "} GROUP BY ?entity ?label\n",
    "ORDER BY DESC(?count) ASC(?entity) ASC(?target)\n",
    "\"\"\"\n"
   ]
  },
  {
   "cell_type": "code",
   "execution_count": null,
   "metadata": {},
   "outputs": [],
   "source": [
    "results1=remoteQuery(query=q, endpoint=ep_biotools)\n",
    "print(f\"nb of concepts with relations: {len(results1)}\")\n",
    "\n",
    "display(HTML(\"<div style='height: 200px; overflow: auto; width: fit-content'>\" +\n",
    "             results1.to_html() +\n",
    "             \"</div>\"))"
   ]
  },
  {
   "cell_type": "markdown",
   "metadata": {},
   "source": [
    "## EDAM Relations consistent with bio.tools entries"
   ]
  },
  {
   "cell_type": "markdown",
   "metadata": {},
   "source": [
    "### 1) has_topic relation between operation and topic "
   ]
  },
  {
   "cell_type": "code",
   "execution_count": null,
   "metadata": {},
   "outputs": [],
   "source": [
    "q2= \"\"\"\n",
    "PREFIX biotools: <https://bio.tools/ontology/>\n",
    "PREFIX bsc: <http://bioschemas.org/>\n",
    "PREFIX bsct: <http://bioschemas.org/types/>\n",
    "PREFIX dct: <http://purl.org/dc/terms/>\n",
    "PREFIX edam: <http://edamontology.org/>\n",
    "PREFIX owl: <http://www.w3.org/2002/07/owl#>\n",
    "PREFIX sc: <http://schema.org/>\n",
    "PREFIX rdf: <http://www.w3.org/1999/02/22-rdf-syntax-ns#>\n",
    "PREFIX rdfs: <http://www.w3.org/2000/01/rdf-schema#>\n",
    "PREFIX xsd: <http://www.w3.org/2001/XMLSchema#>\n",
    "\n",
    "SELECT\n",
    "?operation ?operation_label ?topic ?topic_label (COUNT(?tool) as ?tool_count)\n",
    "WHERE\n",
    "{\n",
    "    ?operation rdfs:subClassOf+ edam:operation_0004;\n",
    "               rdfs:label ?operation_label;\n",
    "               rdfs:subClassOf [owl:onProperty edam:has_topic ; owl:someValuesFrom ?topic] .\n",
    "    ?topic rdfs:label ?topic_label.\n",
    "\n",
    "?tool rdf:type <http://schema.org/SoftwareApplication> ;\n",
    "    <http://schema.org/applicationSubCategory> ?topic;\n",
    "    <http://schema.org/featureList> ?operation.\n",
    "\n",
    "}GROUP BY ?operation ?operation_label ?topic ?topic_label \n",
    "ORDER BY DESC(?tool_count) ASC(?operation)\n",
    "\"\"\"\n"
   ]
  },
  {
   "cell_type": "code",
   "execution_count": null,
   "metadata": {},
   "outputs": [],
   "source": [
    "results2=remoteQuery(query=q2, endpoint=ep_biotools)\n",
    "print(f\"nb of edam format with is_format_of relation: {len(results2)}\")\n",
    "\n",
    "display(HTML(\"<div style='height: 200px; overflow: auto; width: fit-content'>\" +\n",
    "             results2.to_html() +\n",
    "             \"</div>\"))"
   ]
  },
  {
   "cell_type": "code",
   "execution_count": null,
   "metadata": {},
   "outputs": [],
   "source": [
    "q3= \"\"\"\n",
    "PREFIX biotools: <https://bio.tools/ontology/>\n",
    "PREFIX bsc: <http://bioschemas.org/>\n",
    "PREFIX bsct: <http://bioschemas.org/types/>\n",
    "PREFIX dct: <http://purl.org/dc/terms/>\n",
    "PREFIX edam: <http://edamontology.org/>\n",
    "PREFIX owl: <http://www.w3.org/2002/07/owl#>\n",
    "PREFIX sc: <http://schema.org/>\n",
    "PREFIX rdf: <http://www.w3.org/1999/02/22-rdf-syntax-ns#>\n",
    "PREFIX rdfs: <http://www.w3.org/2000/01/rdf-schema#>\n",
    "PREFIX xsd: <http://www.w3.org/2001/XMLSchema#>\n",
    "\n",
    "SELECT DISTINCT\n",
    " ?tool \n",
    "WHERE\n",
    "{\n",
    "?tool rdf:type <http://schema.org/SoftwareApplication> ;\n",
    "    <http://schema.org/applicationSubCategory> ?topic;\n",
    "    <http://schema.org/featureList> ?operation.\n",
    "    \n",
    "    ?operation rdfs:subClassOf+ edam:operation_0004;\n",
    "               rdfs:label ?operation_label;\n",
    "               rdfs:subClassOf [owl:onProperty edam:has_topic ; owl:someValuesFrom ?topic] .\n",
    "    ?topic rdfs:label ?topic_label.\n",
    "\n",
    "} GROUP BY ?tool\n",
    "ORDER BY ASC(?tool)\n",
    "\n",
    "\n",
    "\"\"\""
   ]
  },
  {
   "cell_type": "code",
   "execution_count": null,
   "metadata": {},
   "outputs": [],
   "source": [
    "results3=remoteQuery(query=q3, endpoint=ep_biotools)\n",
    "print(f\"nb tools that have at least one operation/topic relation confirmed in edam: {len(results3)}\")\n",
    "\n",
    "display(HTML(\"<div style='height: 200px; overflow: auto; width: fit-content'>\" +\n",
    "             results3.to_html() +\n",
    "             \"</div>\"))"
   ]
  },
  {
   "cell_type": "markdown",
   "metadata": {},
   "source": [
    "## a"
   ]
  },
  {
   "cell_type": "code",
   "execution_count": null,
   "metadata": {},
   "outputs": [],
   "source": []
  }
 ],
 "metadata": {
  "kernelspec": {
   "display_name": "Python 3.9.5 64-bit",
   "language": "python",
   "name": "python3"
  },
  "language_info": {
   "codemirror_mode": {
    "name": "ipython",
    "version": 3
   },
   "file_extension": ".py",
   "mimetype": "text/x-python",
   "name": "python",
   "nbconvert_exporter": "python",
   "pygments_lexer": "ipython3",
   "version": "3.9.5"
  },
  "vscode": {
   "interpreter": {
    "hash": "31f2aee4e71d21fbe5cf8b01ff0e069b9275f58929596ceb00d14d90e3e16cd6"
   }
  }
 },
 "nbformat": 4,
 "nbformat_minor": 2
}
