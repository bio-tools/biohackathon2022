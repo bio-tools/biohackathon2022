{
 "cells": [
  {
   "cell_type": "markdown",
   "id": "a33f2af2",
   "metadata": {},
   "source": [
    "# Not Recommended for Annotation (NRA) terms"
   ]
  },
  {
   "cell_type": "code",
   "execution_count": null,
   "id": "e5b2a935",
   "metadata": {},
   "outputs": [],
   "source": [
    "from SPARQLWrapper import SPARQLWrapper, JSON\n",
    "import pandas as pd"
   ]
  },
  {
   "cell_type": "code",
   "execution_count": null,
   "id": "1b3e1cab",
   "metadata": {},
   "outputs": [],
   "source": [
    "PREFIXES = '''\n",
    "PREFIX rdfs: <http://www.w3.org/2000/01/rdf-schema#>\n",
    "PREFIX edam: <http://edamontology.org/>\n",
    "PREFIX sc: <http://schema.org/>\n",
    "PREFIX bsc: <http://bioschemas.org/>\n",
    "'''"
   ]
  },
  {
   "cell_type": "code",
   "execution_count": null,
   "id": "4358f93e",
   "metadata": {},
   "outputs": [],
   "source": [
    "ep_biotools = SPARQLWrapper(\"http://localhost:7200/repositories/Project25\")\n",
    "ep_biotools.setReturnFormat(JSON)"
   ]
  },
  {
   "cell_type": "code",
   "execution_count": null,
   "id": "21e3f47e",
   "metadata": {},
   "outputs": [],
   "source": [
    "def remote_query(query, endpoint=ep_biotools):\n",
    "    query = PREFIXES + query\n",
    "    endpoint.setQuery(query)\n",
    "    try:\n",
    "        result = endpoint.queryAndConvert()\n",
    "        pd.set_option('display.max_rows', None, 'display.max_colwidth', 6000, 'display.width', 6000)\n",
    "        df = pd.DataFrame(result['results']['bindings'])\n",
    "        df = df.applymap(lambda x: x['value'])\n",
    "        return df\n",
    "    except Exception as e:\n",
    "        print(e)"
   ]
  },
  {
   "cell_type": "markdown",
   "id": "1dcb8920",
   "metadata": {},
   "source": [
    "## What terms in EDAM are not recommended for annotation?"
   ]
  },
  {
   "cell_type": "code",
   "execution_count": null,
   "id": "bed7f753",
   "metadata": {},
   "outputs": [],
   "source": [
    "q = '''\n",
    "SELECT ?feature ?label WHERE {\n",
    "   ?feature edam:notRecommendedForAnnotation true. \n",
    "   ?feature rdfs:label ?label.\n",
    "}\n",
    "'''\n",
    "remote_query(q)"
   ]
  },
  {
   "cell_type": "markdown",
   "id": "4eb72fae",
   "metadata": {},
   "source": [
    "## EDAM: Topic"
   ]
  },
  {
   "cell_type": "markdown",
   "id": "df912fae",
   "metadata": {},
   "source": [
    "### What are the most common NRA topics?"
   ]
  },
  {
   "cell_type": "code",
   "execution_count": null,
   "id": "d92d7794",
   "metadata": {},
   "outputs": [],
   "source": [
    "q = '''\n",
    "SELECT ?label (COUNT(?topic) as ?count) WHERE {\n",
    "?x a sc:SoftwareApplication;\n",
    "   sc:applicationSubCategory ?topic.\n",
    "   ?topic rdfs:label ?label.\n",
    "   ?topic edam:notRecommendedForAnnotation true. \n",
    "} GROUP BY ?label\n",
    "ORDER BY DESC(?count)\n",
    "'''\n",
    "remote_query(q)"
   ]
  },
  {
   "cell_type": "markdown",
   "id": "cae38815",
   "metadata": {},
   "source": [
    "### Which tools have NRA topics?"
   ]
  },
  {
   "cell_type": "code",
   "execution_count": null,
   "id": "60f123b5",
   "metadata": {},
   "outputs": [],
   "source": [
    "q = '''\n",
    "SELECT ?biotools_id ?label WHERE {\n",
    "?biotools_id a sc:SoftwareApplication;\n",
    "   sc:applicationSubCategory ?topic.\n",
    "   ?topic rdfs:label ?label.\n",
    "   ?topic edam:notRecommendedForAnnotation true. \n",
    "}\n",
    "'''\n",
    "remote_query(q)"
   ]
  },
  {
   "cell_type": "markdown",
   "id": "94480358",
   "metadata": {},
   "source": [
    "## EDAM: Operation"
   ]
  },
  {
   "cell_type": "markdown",
   "id": "c7f6be1c",
   "metadata": {},
   "source": [
    "### What are the most common NRA operations?"
   ]
  },
  {
   "cell_type": "code",
   "execution_count": null,
   "id": "97098b57",
   "metadata": {},
   "outputs": [],
   "source": [
    "q = '''\n",
    "SELECT ?label (COUNT(?operation) as ?count) WHERE {\n",
    "?x a sc:SoftwareApplication;\n",
    "   sc:featureList ?operation.\n",
    "   ?operation rdfs:label ?label.\n",
    "   ?operation edam:notRecommendedForAnnotation true. \n",
    "} GROUP BY ?label\n",
    "ORDER BY DESC(?count)\n",
    "'''\n",
    "remote_query(q)"
   ]
  },
  {
   "cell_type": "markdown",
   "id": "b0f39af6",
   "metadata": {},
   "source": [
    "### Which tools have NRA operations?"
   ]
  },
  {
   "cell_type": "code",
   "execution_count": null,
   "id": "05a6e034",
   "metadata": {},
   "outputs": [],
   "source": [
    "q = '''\n",
    "SELECT ?biotools_id ?label WHERE {\n",
    "?biotools_id a sc:SoftwareApplication;\n",
    "   sc:featureList ?operation.\n",
    "   ?operation rdfs:label ?label.\n",
    "   ?operation edam:notRecommendedForAnnotation true. \n",
    "}\n",
    "'''\n",
    "remote_query(q)"
   ]
  },
  {
   "cell_type": "markdown",
   "id": "a1061813",
   "metadata": {},
   "source": [
    "## EDAM: Data"
   ]
  },
  {
   "cell_type": "markdown",
   "id": "c8803bae",
   "metadata": {},
   "source": [
    "### What are the most common NRA data?"
   ]
  },
  {
   "cell_type": "code",
   "execution_count": null,
   "id": "0d767b3a",
   "metadata": {},
   "outputs": [],
   "source": [
    "q = '''\n",
    "SELECT ?label ?type (COUNT(?label) as ?count) WHERE {\n",
    "    { ?biotools_id a sc:SoftwareApplication;\n",
    "      bsc:input [sc:additionalType ?datatype];\n",
    "      VALUES ?type {'input'}.}\n",
    "    UNION\n",
    "    { ?biotools_id a sc:SoftwareApplication;\n",
    "      bsc:output [sc:additionalType ?datatype];\n",
    "      VALUES ?type {'output'}.}\n",
    "   ?datatype rdfs:label ?label.\n",
    "   ?datatype edam:notRecommendedForAnnotation true. \n",
    "}\n",
    "GROUP BY ?label ?type\n",
    "ORDER BY DESC(?count) ?label ?type\n",
    "'''\n",
    "remote_query(q)"
   ]
  },
  {
   "cell_type": "markdown",
   "id": "28651a24",
   "metadata": {},
   "source": [
    "### Which tools have NRA data?"
   ]
  },
  {
   "cell_type": "code",
   "execution_count": null,
   "id": "cef21636",
   "metadata": {},
   "outputs": [],
   "source": [
    "q = '''\n",
    "SELECT ?biotools_id ?type ?label WHERE {\n",
    "    { ?biotools_id a sc:SoftwareApplication;\n",
    "      bsc:input [sc:additionalType ?datatype];\n",
    "      VALUES ?type {'input'}.}\n",
    "    UNION\n",
    "    { ?biotools_id a sc:SoftwareApplication;\n",
    "      bsc:output [sc:additionalType ?datatype];\n",
    "      VALUES ?type {'output'}.}\n",
    "   ?datatype rdfs:label ?label.\n",
    "   ?datatype edam:notRecommendedForAnnotation true. \n",
    "}\n",
    "ORDER BY ?biotools_id ?type\n",
    "'''\n",
    "remote_query(q)"
   ]
  },
  {
   "cell_type": "markdown",
   "id": "7b31b0d4",
   "metadata": {},
   "source": [
    "## EDAM: Format"
   ]
  },
  {
   "cell_type": "markdown",
   "id": "7aa3993a",
   "metadata": {},
   "source": [
    "### What are the most common NRA formats?"
   ]
  },
  {
   "cell_type": "code",
   "execution_count": null,
   "id": "428aee10",
   "metadata": {},
   "outputs": [],
   "source": [
    "q = '''\n",
    "SELECT ?label ?type (COUNT(?label) as ?count) WHERE {\n",
    "    { ?biotools_id a sc:SoftwareApplication;\n",
    "      bsc:input [sc:encodingFormat ?format];\n",
    "      VALUES ?type {'input'}.}\n",
    "    UNION\n",
    "    { ?biotools_id a sc:SoftwareApplication;\n",
    "      bsc:output [sc:encodingFormat ?format];\n",
    "      VALUES ?type {'output'}.}\n",
    "   ?format rdfs:label ?label.\n",
    "   ?format edam:notRecommendedForAnnotation true. \n",
    "}\n",
    "GROUP BY ?label ?type\n",
    "ORDER BY DESC(?count) ?label ?type\n",
    "'''\n",
    "remote_query(q)"
   ]
  },
  {
   "cell_type": "markdown",
   "id": "eb3af9c1",
   "metadata": {},
   "source": [
    "### Which tools have NRA formats?"
   ]
  },
  {
   "cell_type": "code",
   "execution_count": null,
   "id": "84206135",
   "metadata": {},
   "outputs": [],
   "source": [
    "q = '''\n",
    "SELECT ?biotools_id ?type ?label WHERE {\n",
    "    { ?biotools_id a sc:SoftwareApplication;\n",
    "      bsc:input [sc:encodingFormat ?format];\n",
    "      VALUES ?type {'input'}.}\n",
    "    UNION\n",
    "    { ?biotools_id a sc:SoftwareApplication;\n",
    "      bsc:output [sc:encodingFormat ?format];\n",
    "      VALUES ?type {'output'}.}\n",
    "   ?format rdfs:label ?label.\n",
    "   ?format edam:notRecommendedForAnnotation true. \n",
    "}\n",
    "ORDER BY ?biotools_id ?type\n",
    "'''\n",
    "remote_query(q)"
   ]
  }
 ],
 "metadata": {
  "kernelspec": {
   "display_name": "Python 3 (ipykernel)",
   "language": "python",
   "name": "python3"
  },
  "language_info": {
   "codemirror_mode": {
    "name": "ipython",
    "version": 3
   },
   "file_extension": ".py",
   "mimetype": "text/x-python",
   "name": "python",
   "nbconvert_exporter": "python",
   "pygments_lexer": "ipython3",
   "version": "3.10.7"
  }
 },
 "nbformat": 4,
 "nbformat_minor": 5
}
