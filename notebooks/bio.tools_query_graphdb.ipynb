{
 "cells": [
  {
   "cell_type": "markdown",
   "id": "03c0be05-b884-4263-8332-21671f9db5c4",
   "metadata": {},
   "source": [
    "## Set up\n",
    "First you need to install GraphDB locally on you machine\n"
   ]
  },
  {
   "cell_type": "code",
   "execution_count": null,
   "id": "abf0b4b2-9f5e-411f-8723-2b55acbf9d0b",
   "metadata": {},
   "outputs": [],
   "source": [
    "from rdflib import ConjunctiveGraph\n",
    "from SPARQLWrapper import SPARQLWrapper, JSON\n",
    "import matplotlib.pyplot as plt\n",
    "from matplotlib_venn import venn2\n",
    "import numpy as np\n",
    "from IPython.display import display, HTML\n",
    "\n",
    "\n",
    "\n",
    "import pandas as pd\n",
    "\n",
    "def remoteQuery(query, endpoint):\n",
    "    endpoint.setQuery(query)\n",
    "    try:\n",
    "        result = endpoint.queryAndConvert()\n",
    "        pd.set_option(\"display.max_rows\",None,\"display.max_colwidth\",6000,\"display.width\",6000,)\n",
    "        df = pd.DataFrame(result['results']['bindings'])\n",
    "        df = df.applymap(lambda x: x['value'])\n",
    "        return df\n",
    "        #return (result['results']['bindings'])\n",
    "    except Exception as e:\n",
    "        print(e)\n"
   ]
  },
  {
   "cell_type": "markdown",
   "id": "c3d8bf47-d210-41d7-841f-67fc42549799",
   "metadata": {},
   "source": [
    "\n",
    "### With a GraphDB SPARQL endpoint\n"
   ]
  },
  {
   "cell_type": "markdown",
   "id": "6aad4347",
   "metadata": {},
   "source": [
    "\n",
    "### With a GraphDB SPARQL endpoint\n",
    "\n",
    "The input for SPARQLWrapper is the link to the GraphDB repository where you loaded the appropriate data set, in this example the dev version of EDAM (https://raw.githubusercontent.com/edamontology/edamontology/main/EDAM_dev.owl) and a bio.tools bioschemas turtle file (https://raw.githubusercontent.com/bio-tools/content/master/datasets/bioschemas-dump.ttl) was loaded in the GrapphDB repository. \n"
   ]
  },
  {
   "cell_type": "code",
   "execution_count": null,
   "id": "30303cd1-605a-4b2b-89ec-56ce70435175",
   "metadata": {},
   "outputs": [],
   "source": [
    "ep_biotools = SPARQLWrapper(\"http://localhost:7200/repositories/Project25\")\n",
    "ep_biotools.setReturnFormat(JSON)"
   ]
  },
  {
   "cell_type": "markdown",
   "id": "281cf006-cc22-4343-b4f9-6113e5699ae1",
   "metadata": {
    "tags": []
   },
   "source": [
    "## query to get top 6 operation reprented in bio.tools"
   ]
  },
  {
   "cell_type": "code",
   "execution_count": null,
   "id": "6fc49cdf-8c4e-4739-a58f-035b97183efc",
   "metadata": {},
   "outputs": [],
   "source": [
    "q= \"\"\"\n",
    "PREFIX rdf: <http://www.w3.org/1999/02/22-rdf-syntax-ns#>\n",
    "PREFIX rdfs: <http://www.w3.org/2000/01/rdf-schema#>\n",
    "SELECT  ?operation (COUNT(?operation) as ?count) ?label WHERE {\n",
    "?x rdf:type <http://schema.org/SoftwareApplication> ;\n",
    "   <http://schema.org/name> ?name ; \n",
    "   <http://schema.org/featureList> ?operation .\n",
    "   ?operation rdfs:label ?label . \n",
    "} GROUP BY ?operation ?label\n",
    "ORDER BY DESC(?count)\n",
    "LIMIT 5\n",
    "\"\"\""
   ]
  },
  {
   "cell_type": "code",
   "execution_count": null,
   "id": "45077694-a648-43fb-a1ed-f958538edae4",
   "metadata": {},
   "outputs": [],
   "source": [
    "print(f\"nb data/operation with has_topic property: {len(remoteQuery(query=q, endpoint=ep_biotools))}\")\n",
    "results=remoteQuery(query=q, endpoint=ep_biotools)\n",
    "display(HTML(\"<div style='height: 200px; overflow: auto; width: fit-content'>\" +\n",
    "             results.to_html() +\n",
    "             \"</div>\"))"
   ]
  },
  {
   "cell_type": "markdown",
   "id": "e4206c5a-24ef-49af-a88b-3e2cee8ce960",
   "metadata": {
    "tags": []
   },
   "source": [
    "## query to get the top 100 tools and their associated EDAM def and synonyms"
   ]
  },
  {
   "cell_type": "code",
   "execution_count": null,
   "id": "3a9d11e7-0546-4e92-8dd8-616028fe8fd5",
   "metadata": {},
   "outputs": [],
   "source": [
    "q= \"\"\"\n",
    "SELECT  * WHERE {\n",
    "?biotools_id rdf:type <http://schema.org/SoftwareApplication> ;\n",
    "   <http://schema.org/name> ?name ; \n",
    "   <http://schema.org/featureList> ?feature .\n",
    "\n",
    "?feature  <http://www.geneontology.org/formats/oboInOwl#hasDefinition> ?def ; \n",
    "         <http://www.geneontology.org/formats/oboInOwl#hasExactSynonym> ?syn .\n",
    "} limit 100\n",
    "\"\"\"\n",
    "print(f\"nb data/operation with has_topic property: {len(remoteQuery(query=q, endpoint=ep_biotools))}\")\n",
    "results=remoteQuery(query=q, endpoint=ep_biotools)\n",
    "display(HTML(\"<div style='height: 200px; overflow: auto; width: fit-content'>\" +\n",
    "             results.to_html() +\n",
    "             \"</div>\"))"
   ]
  },
  {
   "cell_type": "markdown",
   "id": "6aebad53-ce31-48d1-be3c-7c88e7dcec88",
   "metadata": {},
   "source": [
    "## *Has_topic* comparison"
   ]
  },
  {
   "cell_type": "code",
   "execution_count": null,
   "id": "13df86c7",
   "metadata": {},
   "outputs": [],
   "source": [
    "q= \"\"\"\n",
    "PREFIX edam:<http://edamontology.org/>\n",
    "PREFIX rdf: <http://www.w3.org/1999/02/22-rdf-syntax-ns#>\n",
    "\n",
    "SELECT DISTINCT  ?operation ?topic WHERE {\n",
    "?biotools_id rdf:type <http://schema.org/SoftwareApplication> ;\n",
    "   <http://schema.org/name> ?name ; \n",
    "   <http://schema.org/featureList> ?operation ;\n",
    "   <http://schema.org/applicationSubCategory> ?topic .\n",
    "\n",
    "\n",
    "} \n",
    "#limit 50\n",
    "\"\"\"\n"
   ]
  },
  {
   "cell_type": "markdown",
   "id": "99163630",
   "metadata": {},
   "source": [
    "The above query returns the relation between a topic and a operation represented in bio.tools via the tools annotation"
   ]
  },
  {
   "cell_type": "code",
   "execution_count": null,
   "id": "129bbade",
   "metadata": {},
   "outputs": [],
   "source": [
    "res_q=len(remoteQuery(query=q, endpoint=ep_biotools))\n",
    "print(f\"nb data/operation with has_topic property: {res_q}\")\n",
    "display(remoteQuery(query=q, endpoint=ep_biotools).head(15))"
   ]
  },
  {
   "cell_type": "code",
   "execution_count": null,
   "id": "44c82b6f",
   "metadata": {},
   "outputs": [],
   "source": [
    "q2= \"\"\"\n",
    "PREFIX edam:<http://edamontology.org/>\n",
    "PREFIX rdf: <http://www.w3.org/1999/02/22-rdf-syntax-ns#>\n",
    "\n",
    "SELECT DISTINCT  ?biotools_id ?name ?operation ?topic WHERE {\n",
    "# SELECT DISTINCT ?operation ?topic WHERE {\n",
    "?biotools_id rdf:type <http://schema.org/SoftwareApplication> ;\n",
    "   <http://schema.org/name> ?name ; \n",
    "   <http://schema.org/featureList> ?operation ;\n",
    "   <http://schema.org/applicationSubCategory> ?topic .\n",
    "\n",
    "\n",
    "?operation rdfs:subClassOf ?restriction . \n",
    "?restriction rdf:type owl:Restriction ; \n",
    "   owl:onProperty  edam:has_topic ; \n",
    "   owl:someValuesFrom ?topic.\n",
    "\n",
    "} \n",
    "# limit 50\n",
    "\"\"\"\n"
   ]
  },
  {
   "cell_type": "markdown",
   "id": "bff617aa",
   "metadata": {},
   "source": [
    "The above query returns the relation between a topic and a operation represented in bio.tools  via the tools annotation, that are validated in edam via the \"has_topic\" restriction in EDAM "
   ]
  },
  {
   "cell_type": "code",
   "execution_count": null,
   "id": "0793e3ec",
   "metadata": {},
   "outputs": [],
   "source": [
    "res_q2=len(remoteQuery(query=q2, endpoint=ep_biotools))\n",
    "print(f\"nb data/operation with has_topic property: {res_q2}\")"
   ]
  },
  {
   "cell_type": "code",
   "execution_count": null,
   "id": "0099f2c8",
   "metadata": {},
   "outputs": [],
   "source": [
    "display(remoteQuery(query=q2, endpoint=ep_biotools).head(15))"
   ]
  },
  {
   "cell_type": "code",
   "execution_count": null,
   "id": "7e51ed6b",
   "metadata": {},
   "outputs": [],
   "source": [
    "q3= \"\"\"\n",
    "PREFIX edam:<http://edamontology.org/>\n",
    "PREFIX rdf: <http://www.w3.org/1999/02/22-rdf-syntax-ns#>\n",
    "\n",
    "SELECT DISTINCT  ?biotools_id ?name ?operation ?topic WHERE {\n",
    "?biotools_id rdf:type <http://schema.org/SoftwareApplication> ;\n",
    "   <http://schema.org/name> ?name ; \n",
    "   <http://schema.org/featureList> ?operation ;\n",
    "   <http://schema.org/applicationSubCategory> ?topic .\n",
    "\n",
    "FILTER NOT EXISTS {    \n",
    "?operation rdfs:subClassOf ?restriction . \n",
    "?restriction rdf:type owl:Restriction ; \n",
    "   owl:onProperty  edam:has_topic ; \n",
    "   owl:someValuesFrom ?topic.}\n",
    "\n",
    "} \n",
    "# limit 60\n",
    "\"\"\""
   ]
  },
  {
   "cell_type": "markdown",
   "id": "c61e5116",
   "metadata": {},
   "source": [
    "The above query returns the relation between a topic and a operation represented in bio.tools  via the tools annotation, that are NOT validated in edam via the \"has_topic\" restriction in EDAM "
   ]
  },
  {
   "cell_type": "code",
   "execution_count": null,
   "id": "8213ff0d",
   "metadata": {},
   "outputs": [],
   "source": [
    "res_q3=len(remoteQuery(query=q3, endpoint=ep_biotools))\n",
    "print(f\"nb data/operation with has_topic property: {res_q3}\")"
   ]
  },
  {
   "cell_type": "code",
   "execution_count": null,
   "id": "8e48742a",
   "metadata": {},
   "outputs": [],
   "source": [
    "remoteQuery(query=q3, endpoint=ep_biotools)"
   ]
  },
  {
   "cell_type": "code",
   "execution_count": null,
   "id": "fcb9d740",
   "metadata": {},
   "outputs": [],
   "source": [
    "has_topic = np.array([res_q2,res_q3])\n",
    "labels=[\"Relations validated in EDAM\",\"Relations NOT validated in EDAM\"]\n",
    "fig = plt.figure()\n",
    "fig.patch.set_facecolor('xkcd:white')\n",
    "fig.suptitle(\"Opration/Topic relation in bio.tools annotations\")\n",
    "\n",
    "textstr=f\"Total= {res_q} relations\"\n",
    "fig.text(0.8, 0.2, textstr, fontsize=12,\n",
    "        verticalalignment='bottom')\n",
    "\n",
    "def func(pct, allvals):\n",
    "    absolute = int(pct/100.*np.sum(allvals))\n",
    "    return \"{:.1f}%\\n({:d})\".format(pct, absolute)\n",
    "\n",
    "plt.pie(has_topic, labels=labels,autopct=lambda pct: func(pct, [res_q2,res_q3]))\n",
    "plt.show"
   ]
  },
  {
   "cell_type": "code",
   "execution_count": null,
   "id": "34f26790",
   "metadata": {},
   "outputs": [],
   "source": [
    "qbis= \"\"\"\n",
    "PREFIX edam:<http://edamontology.org/>\n",
    "PREFIX rdf: <http://www.w3.org/1999/02/22-rdf-syntax-ns#>\n",
    "\n",
    "SELECT DISTINCT ?operation ?topic WHERE {\n",
    "?biotools_id rdf:type <http://schema.org/SoftwareApplication> ;\n",
    "   <http://schema.org/name> ?name ; \n",
    "   <http://schema.org/featureList> ?operation ;\n",
    "   <http://schema.org/applicationSubCategory> ?topic .\n",
    "\n",
    "\n",
    "} \n",
    "# limit 60\n",
    "\"\"\"\n"
   ]
  },
  {
   "cell_type": "code",
   "execution_count": null,
   "id": "031c2e10",
   "metadata": {},
   "outputs": [],
   "source": [
    "res_qbis=len(remoteQuery(query=qbis, endpoint=ep_biotools))\n",
    "print(f\"nb data/operation with has_topic property: {res_qbis}\")"
   ]
  },
  {
   "cell_type": "code",
   "execution_count": null,
   "id": "4baed07b",
   "metadata": {},
   "outputs": [],
   "source": [
    "q4= \"\"\"\n",
    "PREFIX edam:<http://edamontology.org/>\n",
    "PREFIX rdf: <http://www.w3.org/1999/02/22-rdf-syntax-ns#>\n",
    "\n",
    "SELECT DISTINCT ?operation ?topic WHERE {\n",
    "?biotools_id rdf:type <http://schema.org/SoftwareApplication> ;\n",
    "   <http://schema.org/name> ?name ; \n",
    "   <http://schema.org/featureList> ?operation ;\n",
    "   <http://schema.org/applicationSubCategory> ?topic .\n",
    "\n",
    "\n",
    "?operation rdfs:subClassOf ?restriction . \n",
    "?restriction rdf:type owl:Restriction ; \n",
    "   owl:onProperty  edam:has_topic ; \n",
    "   owl:someValuesFrom ?topic.\n",
    "\n",
    "} \n",
    "# limit 50\n",
    "\"\"\"\n"
   ]
  },
  {
   "cell_type": "markdown",
   "id": "0d7a083a",
   "metadata": {},
   "source": [
    "The above query returns the UNIQUES relation between a topic and a operation represented in bio.tools via the tools annotation (meaning if different tools have both operation A and topic B as anootation, the duplicate is not counted), that are  validated in edam via the \"has_topic\" restriction in EDAM "
   ]
  },
  {
   "cell_type": "code",
   "execution_count": null,
   "id": "3ac90db2",
   "metadata": {},
   "outputs": [],
   "source": [
    "res_q4=len(remoteQuery(query=q4, endpoint=ep_biotools))\n",
    "print(f\"nb data/operation with has_topic property: {res_q4}\")"
   ]
  },
  {
   "cell_type": "code",
   "execution_count": null,
   "id": "14c5ef95",
   "metadata": {},
   "outputs": [],
   "source": [
    "q5= \"\"\"\n",
    "PREFIX edam:<http://edamontology.org/>\n",
    "PREFIX rdf: <http://www.w3.org/1999/02/22-rdf-syntax-ns#>\n",
    "\n",
    "SELECT DISTINCT ?operation ?topic WHERE {\n",
    "\n",
    "?biotools_id rdf:type <http://schema.org/SoftwareApplication> ;\n",
    "   <http://schema.org/name> ?name ; \n",
    "   <http://schema.org/featureList> ?operation ;\n",
    "   <http://schema.org/applicationSubCategory> ?topic .\n",
    "\n",
    "FILTER NOT EXISTS {    \n",
    "?operation rdfs:subClassOf ?restriction . \n",
    "?restriction rdf:type owl:Restriction ; \n",
    "   owl:onProperty  edam:has_topic ; \n",
    "   owl:someValuesFrom ?topic.}\n",
    "\n",
    "} \n",
    "# limit 50\n",
    "\"\"\""
   ]
  },
  {
   "cell_type": "markdown",
   "id": "81fd01d9",
   "metadata": {},
   "source": [
    "The above query returns the UNIQUES relation between a topic and a operation represented in bio.tools via the tools annotation (meaning if different tools have both operation A and topic B as anootation, the duplicate is not counted), that are NOT validated in edam via the \"has_topic\" restriction in EDAM "
   ]
  },
  {
   "cell_type": "code",
   "execution_count": null,
   "id": "f975d8d4",
   "metadata": {},
   "outputs": [],
   "source": [
    "res_q5=len(remoteQuery(query=q5, endpoint=ep_biotools))\n",
    "print(f\"nb data/operation with has_topic property: {res_q5}\")"
   ]
  },
  {
   "cell_type": "code",
   "execution_count": null,
   "id": "05d1548d",
   "metadata": {},
   "outputs": [],
   "source": [
    "has_topic = np.array([res_q4,res_q5])\n",
    "labels=[\"Relations validated in EDAM\",\"Relations NOT validated in EDAM\"]\n",
    "fig = plt.figure()\n",
    "fig.patch.set_facecolor('xkcd:white')\n",
    "fig.suptitle(\"UNIQUES Opration/Topic relation in bio.tools annotations\")\n",
    "\n",
    "textstr=f\"Total= {res_qbis} relations\"\n",
    "fig.text(0.8, 0.2, textstr, fontsize=12,\n",
    "        verticalalignment='bottom')\n",
    "\n",
    "def func(pct, allvals):\n",
    "    absolute = int(pct/100.*np.sum(allvals))\n",
    "    return \"{:.1f}%\\n({:d})\".format(pct, absolute)\n",
    "\n",
    "plt.pie(has_topic, labels=labels,autopct=lambda pct: func(pct, [res_q4,res_q5]))\n",
    "plt.show"
   ]
  },
  {
   "cell_type": "code",
   "execution_count": null,
   "id": "f4ab32f1",
   "metadata": {},
   "outputs": [],
   "source": [
    "q6= \"\"\"\n",
    "PREFIX edam:<http://edamontology.org/>\n",
    "PREFIX rdf: <http://www.w3.org/1999/02/22-rdf-syntax-ns#>\n",
    "\n",
    "SELECT DISTINCT ?operation ?topic WHERE {\n",
    " \n",
    "?operation rdfs:subClassOf ?restriction . \n",
    "?restriction rdf:type owl:Restriction ; \n",
    "   owl:onProperty  edam:has_topic ; \n",
    "   owl:someValuesFrom ?topic.\n",
    "\n",
    "} \n",
    "# limit 50\n",
    "\"\"\""
   ]
  },
  {
   "cell_type": "markdown",
   "id": "48cf66ec",
   "metadata": {},
   "source": [
    "The above query returns the relation between a topic and a operation represented EDAm via has_topic restriction"
   ]
  },
  {
   "cell_type": "code",
   "execution_count": null,
   "id": "2834bc36",
   "metadata": {},
   "outputs": [],
   "source": [
    "res_q6=len(remoteQuery(query=q6, endpoint=ep_biotools))\n",
    "print(f\"nb data/operation with has_topic property: {res_q6}\")"
   ]
  },
  {
   "cell_type": "code",
   "execution_count": null,
   "id": "ac4a5d37",
   "metadata": {},
   "outputs": [],
   "source": [
    "fig = plt.figure(figsize = (15, 10))\n",
    "\n",
    "fig.patch.set_facecolor('xkcd:white')\n",
    "fig.suptitle(\"Comparisons of UNQIUES Opration/Topic relation in bio.tools annotations vs EDAM \\\"has_topic\\\" restriction\")\n",
    "\n",
    "def func(pct, allvals):\n",
    "    absolute = int(pct/100.*np.sum(allvals))\n",
    "    return \"{:.1f}%\\n({:d})\".format(pct, absolute)\n",
    "\n",
    "venn2(subsets=(res_qbis-res_q4,res_q4,res_q6-res_q4), set_labels=('Relations in bio.tools', 'Relations in EDAM'))\n",
    "plt.show\n"
   ]
  },
  {
   "cell_type": "markdown",
   "id": "cfbe424b",
   "metadata": {},
   "source": [
    "## bio.tools missing data or format"
   ]
  },
  {
   "cell_type": "code",
   "execution_count": null,
   "id": "b020e5c3",
   "metadata": {},
   "outputs": [],
   "source": []
  }
 ],
 "metadata": {
  "kernelspec": {
   "display_name": "Python 3.9.5 64-bit",
   "language": "python",
   "name": "python3"
  },
  "language_info": {
   "codemirror_mode": {
    "name": "ipython",
    "version": 3
   },
   "file_extension": ".py",
   "mimetype": "text/x-python",
   "name": "python",
   "nbconvert_exporter": "python",
   "pygments_lexer": "ipython3",
   "version": "3.9.5"
  },
  "vscode": {
   "interpreter": {
    "hash": "31f2aee4e71d21fbe5cf8b01ff0e069b9275f58929596ceb00d14d90e3e16cd6"
   }
  }
 },
 "nbformat": 4,
 "nbformat_minor": 5
}
