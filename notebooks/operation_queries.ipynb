{
 "cells": [
  {
   "cell_type": "markdown",
   "id": "03c0be05-b884-4263-8332-21671f9db5c4",
   "metadata": {},
   "source": [
    "## Set up\n",
    "First you need to install GraphDB locally on you machine\n"
   ]
  },
  {
   "cell_type": "code",
   "execution_count": null,
   "id": "abf0b4b2-9f5e-411f-8723-2b55acbf9d0b",
   "metadata": {},
   "outputs": [],
   "source": [
    "from rdflib import ConjunctiveGraph\n",
    "from SPARQLWrapper import SPARQLWrapper, JSON\n",
    "import matplotlib.pyplot as plt\n",
    "from matplotlib_venn import venn2\n",
    "import numpy as np\n",
    "from IPython.display import display, HTML\n",
    "\n",
    "\n",
    "import pandas as pd\n",
    "\n",
    "def remoteQuery(query, endpoint):\n",
    "    endpoint.setQuery(query)\n",
    "    try:\n",
    "        result = endpoint.queryAndConvert()\n",
    "        pd.set_option(\"display.max_rows\",None,\"display.max_colwidth\",6000,\"display.width\",6000,)\n",
    "        df = pd.DataFrame(result['results']['bindings'])\n",
    "        df = df.applymap(lambda x: x['value'])\n",
    "        return df\n",
    "        #return (result['results']['bindings'])\n",
    "    except Exception as e:\n",
    "        print(e)\n"
   ]
  },
  {
   "cell_type": "markdown",
   "id": "6aad4347",
   "metadata": {},
   "source": [
    "\n",
    "### With a GraphDB SPARQL endpoint\n",
    "\n",
    "The input for SPARQLWrapper is the link to the GraphDB repository where you loaded the appropriate data set, in this example the dev version of EDAM (https://raw.githubusercontent.com/edamontology/edamontology/main/EDAM_dev.owl) and a bio.tools bioschemas turtle file (https://raw.githubusercontent.com/bio-tools/content/master/datasets/bioschemas-dump.ttl) was loaded in the GrapphDB repository. \n"
   ]
  },
  {
   "cell_type": "code",
   "execution_count": null,
   "id": "30303cd1-605a-4b2b-89ec-56ce70435175",
   "metadata": {},
   "outputs": [],
   "source": [
    "ep_biotools = SPARQLWrapper(\"http://localhost:7200/repositories/Project25\")\n",
    "ep_biotools.setReturnFormat(JSON)"
   ]
  },
  {
   "cell_type": "markdown",
   "id": "3937cece",
   "metadata": {},
   "source": [
    "## How many EDAM operations are used to annotate bio.tools?"
   ]
  },
  {
   "cell_type": "code",
   "execution_count": null,
   "id": "f2b30107",
   "metadata": {},
   "outputs": [],
   "source": [
    "q= \"\"\"\n",
    "PREFIX rdf: <http://www.w3.org/1999/02/22-rdf-syntax-ns#>\n",
    "PREFIX rdfs: <http://www.w3.org/2000/01/rdf-schema#>\n",
    "PREFIX sc: <http://schema.org/>\n",
    "\n",
    "SELECT DISTINCT ?operation ?label WHERE {\n",
    "\n",
    "?x rdf:type sc:SoftwareApplication ;\n",
    "   sc:featureList ?operation .\n",
    "   ?operation rdfs:label ?label . \n",
    "} \n",
    "\"\"\"\n"
   ]
  },
  {
   "cell_type": "code",
   "execution_count": null,
   "id": "154b2b64",
   "metadata": {},
   "outputs": [],
   "source": [
    "results1=remoteQuery(query=q, endpoint=ep_biotools)\n",
    "print(f\"nb of edam operation used in bio.tools: {len(results1)}\")\n",
    "\n",
    "display(HTML(\"<div style='height: 200px; overflow: auto; width: fit-content'>\" +\n",
    "             results1.to_html() +\n",
    "             \"</div>\"))"
   ]
  },
  {
   "cell_type": "markdown",
   "id": "e152e03b",
   "metadata": {},
   "source": [
    "## How many bio.tools entries are annotated with EDAM operations?"
   ]
  },
  {
   "cell_type": "code",
   "execution_count": null,
   "id": "6e1bfc5d",
   "metadata": {},
   "outputs": [],
   "source": [
    "q5= \"\"\"\n",
    "PREFIX rdf: <http://www.w3.org/1999/02/22-rdf-syntax-ns#>\n",
    "PREFIX rdfs: <http://www.w3.org/2000/01/rdf-schema#>\n",
    "PREFIX sc: <http://schema.org/>\n",
    "\n",
    "SELECT DISTINCT ?entries WHERE {\n",
    "\n",
    "?entries rdf:type sc:SoftwareApplication ;\n",
    "   sc:featureList ?operation .\n",
    "   #?operation rdfs:label ?label . \n",
    "} \n",
    "\"\"\"\n"
   ]
  },
  {
   "cell_type": "code",
   "execution_count": null,
   "id": "75ef9f18",
   "metadata": {},
   "outputs": [],
   "source": [
    "results5=remoteQuery(query=q5, endpoint=ep_biotools)\n",
    "print(f\"nb of bio.tools entries annotated with edam operation: {len(results5)}\")\n",
    "\n",
    "\n",
    "display(HTML(\"<div style='height: 200px; overflow: auto; width: fit-content'>\" +\n",
    "             results5.to_html() +\n",
    "             \"</div>\"))"
   ]
  },
  {
   "cell_type": "markdown",
   "id": "aae11308",
   "metadata": {},
   "source": [
    "## How many operation are there in EDAM? (total)"
   ]
  },
  {
   "cell_type": "code",
   "execution_count": null,
   "id": "cd2977ff",
   "metadata": {},
   "outputs": [],
   "source": [
    "\n",
    "q2=\"\"\"\n",
    "PREFIX rdf: <http://www.w3.org/1999/02/22-rdf-syntax-ns#>\n",
    "PREFIX rdfs: <http://www.w3.org/2000/01/rdf-schema#>\n",
    "PREFIX sc: <http://schema.org/>\n",
    "\n",
    "SELECT DISTINCT ?operation ?label WHERE {\n",
    "\n",
    "?operation rdfs:subClassOf+ <http://edamontology.org/operation_0004> .\n",
    "   ?operation rdfs:label ?label . \n",
    "} \n",
    "GROUP BY ?operation ?label\n",
    "\"\"\"\n"
   ]
  },
  {
   "cell_type": "code",
   "execution_count": null,
   "id": "dc53a6de",
   "metadata": {},
   "outputs": [],
   "source": [
    "results2=remoteQuery(query=q2, endpoint=ep_biotools)\n",
    "print(f\"nb of edam operation total: {len(results2)}\")"
   ]
  },
  {
   "cell_type": "markdown",
   "id": "d4bef1f2",
   "metadata": {},
   "source": [
    "## How many bio.tools entries are annotated with deprecated operations?"
   ]
  },
  {
   "cell_type": "code",
   "execution_count": null,
   "id": "c19a1baf",
   "metadata": {},
   "outputs": [],
   "source": [
    "q3=\"\"\"\n",
    "PREFIX rdf: <http://www.w3.org/1999/02/22-rdf-syntax-ns#>\n",
    "PREFIX rdfs: <http://www.w3.org/2000/01/rdf-schema#>\n",
    "PREFIX sc: <http://schema.org/>\n",
    "\n",
    "SELECT DISTINCT ?operation ?label WHERE {\n",
    "?x rdf:type sc:SoftwareApplication ;\n",
    "   sc:featureList ?operation .\n",
    "   ?operation rdfs:label ?label .\n",
    "?operation rdfs:subClassOf <http://www.w3.org/2002/07/owl#DeprecatedClass> .   \n",
    "\n",
    "} \n",
    "GROUP BY ?operation ?label\n",
    "\"\"\""
   ]
  },
  {
   "cell_type": "code",
   "execution_count": null,
   "id": "c6700aa2",
   "metadata": {},
   "outputs": [],
   "source": [
    "results3=remoteQuery(query=q3, endpoint=ep_biotools)\n",
    "print(f\"number of bio.tools entries annotated with deprecated operation: {len(results3)}\")\n",
    "display(HTML(\"<div style='height: 200px; overflow: auto; width: fit-content'>\" +\n",
    "             results3.to_html() +\n",
    "             \"</div>\"))"
   ]
  },
  {
   "cell_type": "markdown",
   "id": "936c6353",
   "metadata": {},
   "source": [
    "## How many bio.tools entries are annotated with root operations?"
   ]
  },
  {
   "cell_type": "code",
   "execution_count": null,
   "id": "73c74a74",
   "metadata": {},
   "outputs": [],
   "source": [
    "q6=\"\"\"\n",
    "PREFIX rdf: <http://www.w3.org/1999/02/22-rdf-syntax-ns#>\n",
    "PREFIX rdfs: <http://www.w3.org/2000/01/rdf-schema#>\n",
    "PREFIX sc: <http://schema.org/>\n",
    "\n",
    "SELECT DISTINCT ?entries WHERE {\n",
    "?entries rdf:type sc:SoftwareApplication ;\n",
    "   sc:featureList  <http://edamontology.org/operation_0004>.   \n",
    "\n",
    "} \n",
    "\"\"\""
   ]
  },
  {
   "cell_type": "code",
   "execution_count": null,
   "id": "0b46744a",
   "metadata": {},
   "outputs": [],
   "source": [
    "results6=remoteQuery(query=q6, endpoint=ep_biotools)\n",
    "print(f\"number of bio.tools entries annotated with deprecated operation: {len(results6)}\")\n",
    "display(HTML(\"<div style='height: 200px; overflow: auto; width: fit-content'>\" +\n",
    "             results6.to_html() +\n",
    "             \"</div>\"))"
   ]
  },
  {
   "cell_type": "code",
   "execution_count": null,
   "id": "6a4ad178",
   "metadata": {},
   "outputs": [],
   "source": []
  }
 ],
 "metadata": {
  "kernelspec": {
   "display_name": "Python 3.9.5 64-bit",
   "language": "python",
   "name": "python3"
  },
  "language_info": {
   "codemirror_mode": {
    "name": "ipython",
    "version": 3
   },
   "file_extension": ".py",
   "mimetype": "text/x-python",
   "name": "python",
   "nbconvert_exporter": "python",
   "pygments_lexer": "ipython3",
   "version": "3.9.5"
  },
  "vscode": {
   "interpreter": {
    "hash": "31f2aee4e71d21fbe5cf8b01ff0e069b9275f58929596ceb00d14d90e3e16cd6"
   }
  }
 },
 "nbformat": 4,
 "nbformat_minor": 5
}
