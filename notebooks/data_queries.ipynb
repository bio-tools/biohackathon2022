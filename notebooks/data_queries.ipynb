{
 "cells": [
  {
   "cell_type": "markdown",
   "id": "03c0be05-b884-4263-8332-21671f9db5c4",
   "metadata": {},
   "source": [
    "## Set up"
   ]
  },
  {
   "cell_type": "code",
   "execution_count": null,
   "id": "abf0b4b2-9f5e-411f-8723-2b55acbf9d0b",
   "metadata": {},
   "outputs": [],
   "source": [
    "from rdflib import ConjunctiveGraph\n",
    "from SPARQLWrapper import SPARQLWrapper, JSON\n",
    "import matplotlib.pyplot as plt\n",
    "from matplotlib_venn import venn2\n",
    "import numpy as np\n",
    "\n",
    "\n",
    "import pandas as pd\n",
    "\n",
    "def remoteQuery(query, endpoint):\n",
    "    endpoint.setQuery(query)\n",
    "    try:\n",
    "        result = endpoint.queryAndConvert()\n",
    "        pd.set_option(\"display.max_rows\",None,\"display.max_colwidth\",6000,\"display.width\",6000,)\n",
    "        df = pd.DataFrame(result['results']['bindings'])\n",
    "        df = df.applymap(lambda x: x['value'])\n",
    "        return df\n",
    "        #return (result['results']['bindings'])\n",
    "    except Exception as e:\n",
    "        print(e)\n"
   ]
  },
  {
   "cell_type": "code",
   "execution_count": null,
   "id": "30303cd1-605a-4b2b-89ec-56ce70435175",
   "metadata": {},
   "outputs": [],
   "source": [
    "ep_biotools = SPARQLWrapper(\"http://localhost:7200/repositories/Project25\")\n",
    "ep_biotools.setReturnFormat(JSON)"
   ]
  },
  {
   "cell_type": "markdown",
   "id": "281cf006-cc22-4343-b4f9-6113e5699ae1",
   "metadata": {
    "tags": []
   },
   "source": [
    "## How many EDAM data are there in EDAM?"
   ]
  },
  {
   "cell_type": "code",
   "execution_count": null,
   "id": "6fc49cdf-8c4e-4739-a58f-035b97183efc",
   "metadata": {},
   "outputs": [],
   "source": [
    "q= \"\"\"\n",
    "PREFIX edam:<http://edamontology.org/>\n",
    "PREFIX rdf: <http://www.w3.org/1999/02/22-rdf-syntax-ns#>\n",
    "\n",
    "PREFIX rdfs: <http://www.w3.org/2000/01/rdf-schema#>\n",
    "PREFIX owl: <http://www.w3.org/2002/07/owl#>\n",
    "PREFIX bsc: <http://bioschemas.org/>\n",
    "PREFIX bsct: <http://bioschemas.org/types/>\n",
    "\n",
    "PREFIX sc: <http://schema.org/>\n",
    "SELECT (COUNT(DISTINCT ?data) as ?count) WHERE {\n",
    "    ?data rdfs:subClassOf <http://edamontology.org/data_0006>\n",
    "}\n",
    "\"\"\"\n",
    "print(f\"Total number of EDAM data: {len(remoteQuery(query=q, endpoint=ep_biotools))}\")\n",
    "remoteQuery(query=q, endpoint=ep_biotools)"
   ]
  },
  {
   "cell_type": "markdown",
   "id": "9c498e15-5458-473e-a2f9-c527655f5047",
   "metadata": {
    "tags": []
   },
   "source": [
    "## How many EDAM data are used to annotate bio.tools?"
   ]
  },
  {
   "cell_type": "code",
   "execution_count": null,
   "id": "6bb2f593-7b8e-47bc-b4e1-888a0bebc048",
   "metadata": {},
   "outputs": [],
   "source": [
    "q= \"\"\"\n",
    "PREFIX edam:<http://edamontology.org/>\n",
    "PREFIX rdf: <http://www.w3.org/1999/02/22-rdf-syntax-ns#>\n",
    "\n",
    "PREFIX rdfs: <http://www.w3.org/2000/01/rdf-schema#>\n",
    "PREFIX owl: <http://www.w3.org/2002/07/owl#>\n",
    "PREFIX bsc: <http://bioschemas.org/>\n",
    "PREFIX bsct: <http://bioschemas.org/types/>\n",
    "\n",
    "PREFIX sc: <http://schema.org/>\n",
    "SELECT (COUNT(DISTINCT ?data) as ?count) WHERE {\n",
    "    {\n",
    "?biotools_id rdf:type <http://schema.org/SoftwareApplication> ;\n",
    "   bsc:input [sc:additionalType ?data].        \n",
    "    } UNION {\n",
    "?biotools_id rdf:type <http://schema.org/SoftwareApplication> ;\n",
    "   bsc:output [sc:additionalType ?data].        \n",
    "    }\n",
    "}\n",
    "\"\"\"\n",
    "print(f\"Total number of EDAM data used to annotate bio.tools: {len(remoteQuery(query=q, endpoint=ep_biotools))}\")\n",
    "remoteQuery(query=q, endpoint=ep_biotools)"
   ]
  },
  {
   "cell_type": "markdown",
   "id": "10959a26-8d0a-4aee-aefe-332ffab13d04",
   "metadata": {
    "tags": []
   },
   "source": [
    "## How many bio.tools entries are annotated with EDAM data?"
   ]
  },
  {
   "cell_type": "code",
   "execution_count": null,
   "id": "03f054ed-4495-41b3-8134-6a7243a061c7",
   "metadata": {},
   "outputs": [],
   "source": [
    "q= \"\"\"\n",
    "PREFIX edam:<http://edamontology.org/>\n",
    "PREFIX rdf: <http://www.w3.org/1999/02/22-rdf-syntax-ns#>\n",
    "\n",
    "PREFIX rdfs: <http://www.w3.org/2000/01/rdf-schema#>\n",
    "PREFIX owl: <http://www.w3.org/2002/07/owl#>\n",
    "PREFIX bsc: <http://bioschemas.org/>\n",
    "PREFIX bsct: <http://bioschemas.org/types/>\n",
    "\n",
    "PREFIX sc: <http://schema.org/>\n",
    "SELECT (COUNT(DISTINCT ?biotools_id) as ?count) WHERE {\n",
    "    {\n",
    "?biotools_id rdf:type <http://schema.org/SoftwareApplication> ;\n",
    "   bsc:input [sc:additionalType ?data].        \n",
    "    } UNION {\n",
    "?biotools_id rdf:type <http://schema.org/SoftwareApplication> ;\n",
    "   bsc:output [sc:additionalType ?data].        \n",
    "    }\n",
    "}\n",
    "\"\"\"\n",
    "print(f\"Total number of bio.tools entries used to annotate EDAM data: {len(remoteQuery(query=q, endpoint=ep_biotools))}\")\n",
    "remoteQuery(query=q, endpoint=ep_biotools)"
   ]
  },
  {
   "cell_type": "markdown",
   "id": "b45cd8f0-1593-491a-9369-a5109eaab917",
   "metadata": {},
   "source": [
    "## Which EDAM data are used for bio.tools annotation?"
   ]
  },
  {
   "cell_type": "code",
   "execution_count": null,
   "id": "a62ac94c-fe93-4fae-be16-9571d988306c",
   "metadata": {},
   "outputs": [],
   "source": [
    "q= \"\"\"\n",
    "PREFIX edam:<http://edamontology.org/>\n",
    "PREFIX rdf: <http://www.w3.org/1999/02/22-rdf-syntax-ns#>\n",
    "\n",
    "PREFIX rdfs: <http://www.w3.org/2000/01/rdf-schema#>\n",
    "PREFIX owl: <http://www.w3.org/2002/07/owl#>\n",
    "PREFIX bsc: <http://bioschemas.org/>\n",
    "PREFIX bsct: <http://bioschemas.org/types/>\n",
    "\n",
    "PREFIX sc: <http://schema.org/>\n",
    "SELECT DISTINCT ?data WHERE {\n",
    "    {\n",
    "?biotools_id rdf:type <http://schema.org/SoftwareApplication> ;\n",
    "   bsc:input [sc:additionalType ?data].        \n",
    "    } UNION {\n",
    "?biotools_id rdf:type <http://schema.org/SoftwareApplication> ;\n",
    "   bsc:output [sc:additionalType ?data].        \n",
    "    }\n",
    "}\n",
    "\n",
    "ORDER BY ASC(?data)\n",
    "\"\"\"\n",
    "print(f\"EDAM data used to annotate bio.tools:\")\n",
    "remoteQuery(query=q, endpoint=ep_biotools)"
   ]
  },
  {
   "cell_type": "code",
   "execution_count": null,
   "id": "d5f1a923-dbe7-4c05-988b-25a7290b57de",
   "metadata": {},
   "outputs": [],
   "source": [
    "q= \"\"\"\n",
    "PREFIX edam:<http://edamontology.org/>\n",
    "PREFIX rdf: <http://www.w3.org/1999/02/22-rdf-syntax-ns#>\n",
    "\n",
    "PREFIX rdfs: <http://www.w3.org/2000/01/rdf-schema#>\n",
    "PREFIX owl: <http://www.w3.org/2002/07/owl#>\n",
    "PREFIX bsc: <http://bioschemas.org/>\n",
    "PREFIX bsct: <http://bioschemas.org/types/>\n",
    "\n",
    "PREFIX sc: <http://schema.org/>\n",
    "SELECT (COUNT(DISTINCT ?data) as ?count) WHERE {\n",
    "    {\n",
    "?biotools_id rdf:type <http://schema.org/SoftwareApplication> ;\n",
    "   bsc:input [sc:additionalType ?data].\n",
    "   \n",
    "    } UNION {\n",
    "?biotools_id rdf:type <http://schema.org/SoftwareApplication> ;\n",
    "   bsc:output [sc:additionalType ?data].        \n",
    "    }\n",
    "}\n",
    "\"\"\"\n",
    "print(f\"Total number of EDAM data used to annotate bio.tools: {len(remoteQuery(query=q, endpoint=ep_biotools))}\")\n",
    "remoteQuery(query=q, endpoint=ep_biotools)"
   ]
  },
  {
   "cell_type": "markdown",
   "id": "7e7ed02f-8a6c-46bf-a897-9f8dcfb79d34",
   "metadata": {},
   "source": [
    "## Which deprecated EDAM data are used for bio.tools annotation?"
   ]
  },
  {
   "cell_type": "code",
   "execution_count": null,
   "id": "85f5d4db-856b-4c45-9037-559ca9395c58",
   "metadata": {},
   "outputs": [],
   "source": [
    "q= \"\"\"\n",
    "PREFIX edam:<http://edamontology.org/>\n",
    "PREFIX rdf: <http://www.w3.org/1999/02/22-rdf-syntax-ns#>\n",
    "\n",
    "PREFIX rdfs: <http://www.w3.org/2000/01/rdf-schema#>\n",
    "PREFIX owl: <http://www.w3.org/2002/07/owl#>\n",
    "PREFIX bsc: <http://bioschemas.org/>\n",
    "PREFIX bsct: <http://bioschemas.org/types/>\n",
    "\n",
    "PREFIX sc: <http://schema.org/>\n",
    "SELECT DISTINCT ?data WHERE {\n",
    "    {\n",
    "?biotools_id rdf:type <http://schema.org/SoftwareApplication> ;\n",
    "   bsc:input [sc:additionalType ?data].\n",
    "   ?data rdfs:subClassOf <http://www.w3.org/2002/07/owl#DeprecatedClass> . \n",
    "    } UNION {\n",
    "?biotools_id rdf:type <http://schema.org/SoftwareApplication> ;\n",
    "   bsc:output [sc:additionalType ?data].        \n",
    "   ?data rdfs:subClassOf <http://www.w3.org/2002/07/owl#DeprecatedClass> . \n",
    "    }\n",
    "}\n",
    "\n",
    "ORDER BY ASC(?data)\n",
    "\"\"\"\n",
    "print(f\"EDAM data used to annotate bio.tools:\")\n",
    "remoteQuery(query=q, endpoint=ep_biotools)"
   ]
  },
  {
   "cell_type": "code",
   "execution_count": null,
   "id": "d2e7228d-9a98-40d0-a871-04ca7e38d1c9",
   "metadata": {},
   "outputs": [],
   "source": []
  }
 ],
 "metadata": {
  "kernelspec": {
   "display_name": "Python 3 (ipykernel)",
   "language": "python",
   "name": "python3"
  },
  "language_info": {
   "codemirror_mode": {
    "name": "ipython",
    "version": 3
   },
   "file_extension": ".py",
   "mimetype": "text/x-python",
   "name": "python",
   "nbconvert_exporter": "python",
   "pygments_lexer": "ipython3",
   "version": "3.10.7"
  },
  "vscode": {
   "interpreter": {
    "hash": "0f4f2500dbffb9c4872834b5dbaeb59fe17224f4fc0fa19038d4e5c3182eef5a"
   }
  }
 },
 "nbformat": 4,
 "nbformat_minor": 5
}
