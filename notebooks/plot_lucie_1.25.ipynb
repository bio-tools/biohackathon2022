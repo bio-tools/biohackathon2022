{
 "cells": [
  {
   "cell_type": "markdown",
   "metadata": {},
   "source": [
    "# Plot for presentation \n",
    "###  WARNING here the loaded EDAM version in 1.25 (not the curent dev version)\n",
    "In this version boolean values were not declared as such, the queries are modified to tes for the string \"true\" and not the boolean value. "
   ]
  },
  {
   "cell_type": "markdown",
   "metadata": {},
   "source": [
    "### Usage of edam concept (per subontology) in the bio.tools registry"
   ]
  },
  {
   "cell_type": "code",
   "execution_count": 1,
   "id": "abf0b4b2-9f5e-411f-8723-2b55acbf9d0b",
   "metadata": {},
   "outputs": [],
   "source": [
    "from rdflib import ConjunctiveGraph\n",
    "from SPARQLWrapper import SPARQLWrapper, JSON\n",
    "import matplotlib.pyplot as plt\n",
    "import numpy as np\n",
    "\n",
    "\n",
    "import pandas as pd\n",
    "\n",
    "def remoteQuery(query, endpoint):\n",
    "    endpoint.setQuery(query)\n",
    "    try:\n",
    "        result = endpoint.queryAndConvert()\n",
    "        pd.set_option(\"display.max_rows\",None,\"display.max_colwidth\",6000,\"display.width\",6000,)\n",
    "        df = pd.DataFrame(result['results']['bindings'])\n",
    "        df = df.applymap(lambda x: x['value'])\n",
    "        return df\n",
    "        #return (result['results']['bindings'])\n",
    "    except Exception as e:\n",
    "        print(e)\n",
    "\n",
    "ep_biotools = SPARQLWrapper(\"http://localhost:7200/repositories/Project25_1-25\")\n",
    "ep_biotools.setReturnFormat(JSON)"
   ]
  },
  {
   "cell_type": "markdown",
   "metadata": {},
   "source": [
    "## Topic"
   ]
  },
  {
   "cell_type": "code",
   "execution_count": 2,
   "metadata": {},
   "outputs": [],
   "source": [
    "q_topic_non_obs = \"\"\"\n",
    "PREFIX rdf: <http://www.w3.org/1999/02/22-rdf-syntax-ns#>\n",
    "PREFIX rdfs: <http://www.w3.org/2000/01/rdf-schema#>\n",
    "PREFIX sc: <http://schema.org/>\n",
    "PREFIX edam: <http://edamontology.org/>\n",
    "PREFIX owl: <http://www.w3.org/2002/07/owl#>\n",
    "\n",
    "\n",
    "SELECT DISTINCT ?topic  WHERE {\n",
    "?topic rdfs:subClassOf* <http://edamontology.org/topic_0003> .\n",
    "}\n",
    "\"\"\"\n",
    "\n",
    "q_topic_obs = \"\"\" \n",
    "PREFIX rdf: <http://www.w3.org/1999/02/22-rdf-syntax-ns#>\n",
    "PREFIX rdfs: <http://www.w3.org/2000/01/rdf-schema#>\n",
    "PREFIX sc: <http://schema.org/>\n",
    "PREFIX edam: <http://edamontology.org/>\n",
    "PREFIX owl: <http://www.w3.org/2002/07/owl#>\n",
    "\n",
    "SELECT DISTINCT ?topic  WHERE {\n",
    "    ?topic a owl:Class .\n",
    "    BIND(strafter(str(?topic), \"org/\") AS ?id) .\n",
    "    BIND(strbefore(str(?id), \"_\") AS ?subset) .\n",
    "    FILTER(?subset = \"topic\")\n",
    "    ?topic owl:deprecated \"true\" .\n",
    "}\n",
    "\"\"\"\n",
    "\n",
    "q_topic_new = \"\"\" \n",
    "PREFIX rdf: <http://www.w3.org/1999/02/22-rdf-syntax-ns#>\n",
    "PREFIX rdfs: <http://www.w3.org/2000/01/rdf-schema#>\n",
    "PREFIX sc: <http://schema.org/>\n",
    "PREFIX edam: <http://edamontology.org/>\n",
    "PREFIX owl: <http://www.w3.org/2002/07/owl#>\n",
    "\n",
    "\n",
    "SELECT DISTINCT ?topic  WHERE {\n",
    "?topic rdfs:subClassOf* <http://edamontology.org/topic_0003> .\n",
    "?topic edam:created_in '1.26'.\n",
    "}\n",
    "\"\"\"\n",
    "\n",
    "q_topic_aux = \"\"\" \n",
    "PREFIX rdf: <http://www.w3.org/1999/02/22-rdf-syntax-ns#>\n",
    "PREFIX rdfs: <http://www.w3.org/2000/01/rdf-schema#>\n",
    "PREFIX sc: <http://schema.org/>\n",
    "PREFIX edam: <http://edamontology.org/>\n",
    "PREFIX owl: <http://www.w3.org/2002/07/owl#>\n",
    "\n",
    "\n",
    "SELECT DISTINCT ?topic  WHERE {\n",
    "?topic rdfs:subClassOf* <http://edamontology.org/topic_0003> .\n",
    "?topic edam:notRecommendedForAnnotation \"true\".\n",
    "}\n",
    "\"\"\"\n",
    "\n",
    "q_topic_bt=\"\"\"\n",
    "PREFIX rdf: <http://www.w3.org/1999/02/22-rdf-syntax-ns#>\n",
    "PREFIX rdfs: <http://www.w3.org/2000/01/rdf-schema#>\n",
    "PREFIX sc: <http://schema.org/>\n",
    "PREFIX edam: <http://edamontology.org/>\n",
    "PREFIX owl: <http://www.w3.org/2002/07/owl#>\n",
    "\n",
    "SELECT DISTINCT ?topic  WHERE {\n",
    "\n",
    "?tool rdf:type sc:SoftwareApplication ;\n",
    "   sc:applicationSubCategory ?topic  .\n",
    "} \n",
    "\"\"\"\n",
    "\n",
    "q_topic_obs_bt=\"\"\" \n",
    "PREFIX rdf: <http://www.w3.org/1999/02/22-rdf-syntax-ns#>\n",
    "PREFIX rdfs: <http://www.w3.org/2000/01/rdf-schema#>\n",
    "PREFIX sc: <http://schema.org/>\n",
    "PREFIX edam: <http://edamontology.org/>\n",
    "PREFIX owl: <http://www.w3.org/2002/07/owl#>\n",
    "\n",
    "\n",
    "SELECT DISTINCT ?topic  WHERE {\n",
    "\n",
    "?tool rdf:type sc:SoftwareApplication ;\n",
    "   sc:applicationSubCategory ?topic  .\n",
    "?topic owl:deprecated \"true\" . \n",
    "}\n",
    "\"\"\"\n",
    "\n",
    "q_topic_aux_bt=\"\"\" \n",
    "PREFIX rdf: <http://www.w3.org/1999/02/22-rdf-syntax-ns#>\n",
    "PREFIX rdfs: <http://www.w3.org/2000/01/rdf-schema#>\n",
    "PREFIX sc: <http://schema.org/>\n",
    "PREFIX edam: <http://edamontology.org/>\n",
    "PREFIX owl: <http://www.w3.org/2002/07/owl#>\n",
    "\n",
    "\n",
    "SELECT DISTINCT ?topic  WHERE {\n",
    "\n",
    "?tool rdf:type sc:SoftwareApplication ;\n",
    "   sc:applicationSubCategory ?topic  .\n",
    "?topic edam:notRecommendedForAnnotation \"true\".\n",
    "}\n",
    "\"\"\""
   ]
  },
  {
   "cell_type": "code",
   "execution_count": 3,
   "metadata": {},
   "outputs": [
    {
     "name": "stdout",
     "output_type": "stream",
     "text": [
      "a) nb_topic_non_obs: 263\n",
      "b) nb_topic_obs: 188\n",
      "c) nb_topic_new: 0\n",
      "d) nb_topic_aux: 1\n",
      "e) nb_topic_bt: 265\n",
      "f) nb_topic_obs_bt: 6\n",
      "g) nb_topic_aux_bt: 1\n",
      "nb_topic_valid_bt: 258\n",
      "nb_topic_aux_not_bt: 0\n",
      "nb_topic_valid_not_bt: 4\n",
      "nb_topic_obs_not_bt: 182\n"
     ]
    }
   ],
   "source": [
    "topic_non_obs=remoteQuery(query=q_topic_non_obs, endpoint=ep_biotools)\n",
    "nb_topic_non_obs=int(len(topic_non_obs))\n",
    "print(f\"a) nb_topic_non_obs: {nb_topic_non_obs}\")\n",
    "\n",
    "topic_obs=remoteQuery(query=q_topic_obs, endpoint=ep_biotools)\n",
    "nb_topic_obs=int(len(topic_obs))\n",
    "print(f\"b) nb_topic_obs: {nb_topic_obs}\")\n",
    "\n",
    "topic_new=remoteQuery(query=q_topic_new, endpoint=ep_biotools)\n",
    "nb_topic_new=int(len(topic_new))\n",
    "print(f\"c) nb_topic_new: {nb_topic_new}\")\n",
    "\n",
    "topic_aux=remoteQuery(query=q_topic_aux, endpoint=ep_biotools)\n",
    "nb_topic_aux=int(len(topic_aux))\n",
    "print(f\"d) nb_topic_aux: {nb_topic_aux}\")\n",
    "\n",
    "topic_bt=remoteQuery(query=q_topic_bt, endpoint=ep_biotools)\n",
    "nb_topic_bt=int(len(topic_bt))\n",
    "print(f\"e) nb_topic_bt: {nb_topic_bt}\")\n",
    "\n",
    "topic_obs_bt=remoteQuery(query=q_topic_obs_bt, endpoint=ep_biotools)\n",
    "nb_topic_obs_bt=int(len(topic_obs_bt))\n",
    "print(f\"f) nb_topic_obs_bt: {nb_topic_obs_bt}\")\n",
    "\n",
    "topic_aux_bt=remoteQuery(query=q_topic_aux_bt, endpoint=ep_biotools)\n",
    "nb_topic_aux_bt=int(len(topic_aux_bt))\n",
    "print(f\"g) nb_topic_aux_bt: {nb_topic_aux_bt}\")\n",
    "\n",
    "nb_topic_valid_bt=nb_topic_bt-nb_topic_obs_bt-nb_topic_aux_bt\n",
    "nb_topic_aux_not_bt=nb_topic_aux-nb_topic_aux_bt\n",
    "nb_topic_valid_not_bt=nb_topic_non_obs-nb_topic_new-nb_topic_aux-nb_topic_valid_bt\n",
    "nb_topic_obs_not_bt=nb_topic_obs-nb_topic_obs_bt\n",
    "\n",
    "print(f\"nb_topic_valid_bt: {nb_topic_valid_bt}\")\n",
    "print(f\"nb_topic_aux_not_bt: {nb_topic_aux_not_bt}\")\n",
    "print(f\"nb_topic_valid_not_bt: {nb_topic_valid_not_bt}\")\n",
    "print(f\"nb_topic_obs_not_bt: {nb_topic_obs_not_bt}\")\n"
   ]
  },
  {
   "cell_type": "code",
   "execution_count": 4,
   "metadata": {},
   "outputs": [
    {
     "data": {
      "image/png": "[encoded data removed]",
      "text/plain": [
       "<Figure size 720x720 with 1 Axes>"
      ]
     },
     "metadata": {},
     "output_type": "display_data"
    }
   ],
   "source": [
    "fig, ax = plt.subplots(figsize = (10, 10))\n",
    "# fig.patch.set_facecolor('xkcd:white')\n",
    "\n",
    "\n",
    "vals = np.array([[nb_topic_obs_not_bt, nb_topic_valid_not_bt, nb_topic_aux_not_bt],\n",
    "                 [nb_topic_aux_bt, nb_topic_valid_bt, nb_topic_obs_bt]])\n",
    "\n",
    "cmap = plt.get_cmap(\"tab20c\")\n",
    "outer_colors = cmap(np.array([19,16]))\n",
    "inner_colors = cmap(np.array([11,7,14,12,4,8]))\n",
    "\n",
    "# Next commented ligne are to print velues and percentages on diagramm, \n",
    "#\n",
    "# def func(pct, allvals):\n",
    "#     absolute = int(pct/100.*np.sum(allvals))\n",
    "#     return \"{:.1f}%\\n({:d})\".format(pct, absolute)\n",
    "\n",
    "# ax.pie(vals.sum(axis=1), labels=[\"Usused\",\"Used\"],radius=1-0.3, colors=outer_colors,\n",
    "#        wedgeprops=dict(width=0.2, edgecolor='w'),autopct=lambda pct: func(pct, vals.sum(axis=1)))\n",
    "\n",
    "# ax.pie(vals.flatten(), radius=1, colors=inner_colors,\n",
    "#        wedgeprops=dict(width=0.3, edgecolor='w'),autopct=lambda pct: func(pct, vals.sum(axis=1)))\n",
    "\n",
    "\n",
    "ax.pie(vals.sum(axis=1),radius=1-0.3, colors=outer_colors,\n",
    "       wedgeprops=dict(width=0.2, edgecolor='w'))\n",
    "\n",
    "ax.pie(vals.flatten(), radius=1, colors=inner_colors,\n",
    "       wedgeprops=dict(width=0.3, edgecolor='w'))\n",
    "\n",
    "ax.set(aspect=\"equal\", title='Usage of EDAM concepts (version 1.25) in Bio.tools (by subset) \\n Topic')\n",
    "\n",
    "plt.show()\n",
    "fig.savefig(\"./figures/1-25_topic_usage.png\")"
   ]
  },
  {
   "cell_type": "markdown",
   "metadata": {},
   "source": [
    "## Operation"
   ]
  },
  {
   "cell_type": "code",
   "execution_count": 18,
   "metadata": {},
   "outputs": [],
   "source": [
    "q_operation_non_obs = \"\"\"\n",
    "PREFIX rdf: <http://www.w3.org/1999/02/22-rdf-syntax-ns#>\n",
    "PREFIX rdfs: <http://www.w3.org/2000/01/rdf-schema#>\n",
    "PREFIX sc: <http://schema.org/>\n",
    "PREFIX edam: <http://edamontology.org/>\n",
    "PREFIX owl: <http://www.w3.org/2002/07/owl#>\n",
    "\n",
    "\n",
    "SELECT DISTINCT ?operation  WHERE {\n",
    "?operation rdfs:subClassOf* <http://edamontology.org/operation_0004> .\n",
    "}\n",
    "\"\"\"\n",
    "\n",
    "q_operation_obs = \"\"\" \n",
    "PREFIX rdf: <http://www.w3.org/1999/02/22-rdf-syntax-ns#>\n",
    "PREFIX rdfs: <http://www.w3.org/2000/01/rdf-schema#>\n",
    "PREFIX sc: <http://schema.org/>\n",
    "PREFIX edam: <http://edamontology.org/>\n",
    "PREFIX owl: <http://www.w3.org/2002/07/owl#>\n",
    "\n",
    "SELECT DISTINCT ?operation  WHERE {\n",
    "    ?operation a owl:Class .\n",
    "    BIND(strafter(str(?operation), \"org/\") AS ?id) .\n",
    "    BIND(strbefore(str(?id), \"_\") AS ?subset) .\n",
    "    FILTER(?subset = \"operation\")\n",
    "    ?operation owl:deprecated \"true\" .\n",
    "}\n",
    "\"\"\"\n",
    "\n",
    "q_operation_new = \"\"\" \n",
    "PREFIX rdf: <http://www.w3.org/1999/02/22-rdf-syntax-ns#>\n",
    "PREFIX rdfs: <http://www.w3.org/2000/01/rdf-schema#>\n",
    "PREFIX sc: <http://schema.org/>\n",
    "PREFIX edam: <http://edamontology.org/>\n",
    "PREFIX owl: <http://www.w3.org/2002/07/owl#>\n",
    "\n",
    "\n",
    "SELECT DISTINCT ?operation  WHERE {\n",
    "?operation rdfs:subClassOf* <http://edamontology.org/operation_0004> .\n",
    "?operation edam:created_in '1.26'.\n",
    "}\n",
    "\"\"\"\n",
    "\n",
    "q_operation_aux = \"\"\" \n",
    "PREFIX rdf: <http://www.w3.org/1999/02/22-rdf-syntax-ns#>\n",
    "PREFIX rdfs: <http://www.w3.org/2000/01/rdf-schema#>\n",
    "PREFIX sc: <http://schema.org/>\n",
    "PREFIX edam: <http://edamontology.org/>\n",
    "PREFIX owl: <http://www.w3.org/2002/07/owl#>\n",
    "\n",
    "\n",
    "SELECT DISTINCT ?operation  WHERE {\n",
    "?operation rdfs:subClassOf* <http://edamontology.org/operation_0004> .\n",
    "?operation edam:notRecommendedForAnnotation \"true\".\n",
    "}\n",
    "\"\"\"\n",
    "\n",
    "q_operation_bt=\"\"\"\n",
    "PREFIX rdf: <http://www.w3.org/1999/02/22-rdf-syntax-ns#>\n",
    "PREFIX rdfs: <http://www.w3.org/2000/01/rdf-schema#>\n",
    "PREFIX sc: <http://schema.org/>\n",
    "PREFIX edam: <http://edamontology.org/>\n",
    "PREFIX owl: <http://www.w3.org/2002/07/owl#>\n",
    "\n",
    "SELECT DISTINCT ?operation  WHERE {\n",
    "\n",
    "?tool rdf:type sc:SoftwareApplication ;\n",
    "   sc:featureList ?operation  .\n",
    "} \n",
    "\"\"\"\n",
    "\n",
    "q_operation_obs_bt=\"\"\" \n",
    "PREFIX rdf: <http://www.w3.org/1999/02/22-rdf-syntax-ns#>\n",
    "PREFIX rdfs: <http://www.w3.org/2000/01/rdf-schema#>\n",
    "PREFIX sc: <http://schema.org/>\n",
    "PREFIX edam: <http://edamontology.org/>\n",
    "PREFIX owl: <http://www.w3.org/2002/07/owl#>\n",
    "\n",
    "\n",
    "SELECT DISTINCT ?operation  WHERE {\n",
    "\n",
    "?tool rdf:type sc:SoftwareApplication ;\n",
    "   sc:featureList ?operation  .\n",
    "?operation owl:deprecated \"true\" . \n",
    "}\n",
    "\"\"\"\n",
    "\n",
    "q_operation_aux_bt=\"\"\" \n",
    "PREFIX rdf: <http://www.w3.org/1999/02/22-rdf-syntax-ns#>\n",
    "PREFIX rdfs: <http://www.w3.org/2000/01/rdf-schema#>\n",
    "PREFIX sc: <http://schema.org/>\n",
    "PREFIX edam: <http://edamontology.org/>\n",
    "PREFIX owl: <http://www.w3.org/2002/07/owl#>\n",
    "\n",
    "\n",
    "SELECT DISTINCT ?operation  WHERE {\n",
    "\n",
    "?tool rdf:type sc:SoftwareApplication ;\n",
    "   sc:featureList ?operation  .\n",
    "?operation edam:notRecommendedForAnnotation \"true\".\n",
    "}\n",
    "\"\"\""
   ]
  },
  {
   "cell_type": "code",
   "execution_count": 19,
   "metadata": {},
   "outputs": [
    {
     "name": "stdout",
     "output_type": "stream",
     "text": [
      "a) nb_operation_non_obs: 534\n",
      "b) nb_operation_obs: 260\n",
      "c) nb_operation_new: 0\n",
      "d) nb_operation_aux: 21\n",
      "e) nb_operation_bt: 546\n",
      "f) nb_operation_obs_bt: 15\n",
      "g) nb_operation_aux_bt: 21\n",
      "nb_operation_valid_bt: 510\n",
      "nb_operation_aux_not_bt: 0\n",
      "nb_operation_valid_not_bt: 3\n",
      "nb_operation_obs_not_bt: 245\n"
     ]
    }
   ],
   "source": [
    "operation_non_obs=remoteQuery(query=q_operation_non_obs, endpoint=ep_biotools)\n",
    "nb_operation_non_obs=int(len(operation_non_obs))\n",
    "print(f\"a) nb_operation_non_obs: {nb_operation_non_obs}\")\n",
    "\n",
    "operation_obs=remoteQuery(query=q_operation_obs, endpoint=ep_biotools)\n",
    "nb_operation_obs=int(len(operation_obs))\n",
    "print(f\"b) nb_operation_obs: {nb_operation_obs}\")\n",
    "\n",
    "operation_new=remoteQuery(query=q_operation_new, endpoint=ep_biotools)\n",
    "nb_operation_new=int(len(operation_new))\n",
    "print(f\"c) nb_operation_new: {nb_operation_new}\")\n",
    "\n",
    "operation_aux=remoteQuery(query=q_operation_aux, endpoint=ep_biotools)\n",
    "nb_operation_aux=int(len(operation_aux))\n",
    "print(f\"d) nb_operation_aux: {nb_operation_aux}\")\n",
    "\n",
    "operation_bt=remoteQuery(query=q_operation_bt, endpoint=ep_biotools)\n",
    "nb_operation_bt=int(len(operation_bt))\n",
    "print(f\"e) nb_operation_bt: {nb_operation_bt}\")\n",
    "\n",
    "operation_obs_bt=remoteQuery(query=q_operation_obs_bt, endpoint=ep_biotools)\n",
    "nb_operation_obs_bt=int(len(operation_obs_bt))\n",
    "print(f\"f) nb_operation_obs_bt: {nb_operation_obs_bt}\")\n",
    "\n",
    "operation_aux_bt=remoteQuery(query=q_operation_aux_bt, endpoint=ep_biotools)\n",
    "nb_operation_aux_bt=int(len(operation_aux_bt))\n",
    "print(f\"g) nb_operation_aux_bt: {nb_operation_aux_bt}\")\n",
    "\n",
    "\n",
    "nb_operation_valid_bt=nb_operation_bt-nb_operation_obs_bt-nb_operation_aux_bt\n",
    "nb_operation_aux_not_bt=nb_operation_aux-nb_operation_aux_bt\n",
    "nb_operation_valid_not_bt=nb_operation_non_obs-nb_operation_new-nb_operation_aux-nb_operation_valid_bt\n",
    "nb_operation_obs_not_bt=nb_operation_obs-nb_operation_obs_bt\n",
    "\n",
    "print(f\"nb_operation_valid_bt: {nb_operation_valid_bt}\")\n",
    "print(f\"nb_operation_aux_not_bt: {nb_operation_aux_not_bt}\")\n",
    "print(f\"nb_operation_valid_not_bt: {nb_operation_valid_not_bt}\")\n",
    "print(f\"nb_operation_obs_not_bt: {nb_operation_obs_not_bt}\")"
   ]
  },
  {
   "cell_type": "code",
   "execution_count": 28,
   "metadata": {},
   "outputs": [
    {
     "data": {
      "image/png": "[encoded data removed]",
      "text/plain": [
       "<Figure size 720x720 with 1 Axes>"
      ]
     },
     "metadata": {},
     "output_type": "display_data"
    }
   ],
   "source": [
    "fig, ax = plt.subplots(figsize = (10, 10))\n",
    "# fig.patch.set_facecolor('xkcd:white')\n",
    "\n",
    "vals = np.array([[nb_operation_obs_not_bt, nb_operation_valid_not_bt, nb_operation_aux_not_bt], [nb_operation_aux_bt, nb_operation_valid_bt, nb_operation_obs_bt]])\n",
    "\n",
    "cmap = plt.get_cmap(\"tab20c\")\n",
    "outer_colors = cmap(np.array([19,16]))\n",
    "inner_colors = cmap(np.array([11,7,14,12,4,8]))\n",
    "\n",
    "# def func(pct, allvals):\n",
    "#     absolute = int(pct/100.*np.sum(allvals))\n",
    "#     return \"{:.1f}%\\n({:d})\".format(pct, absolute)\n",
    "\n",
    "# ax.pie(vals.sum(axis=1), labels=[\"Usused\",\"Used\"],radius=1-0.3, colors=outer_colors,\n",
    "#        wedgeprops=dict(width=0.2, edgecolor='w'),autopct=lambda pct: func(pct, vals.sum(axis=1)))\n",
    "\n",
    "# ax.pie(vals.flatten(), radius=1, colors=inner_colors,\n",
    "#        wedgeprops=dict(width=0.3, edgecolor='w'),autopct=lambda pct: func(pct, vals.sum(axis=1)))\n",
    "\n",
    "ax.pie(vals.sum(axis=1),radius=1-0.3, colors=outer_colors,\n",
    "       wedgeprops=dict(width=0.2, edgecolor='w'))\n",
    "\n",
    "ax.pie(vals.flatten(), radius=1, colors=inner_colors,\n",
    "       wedgeprops=dict(width=0.3, edgecolor='w'))\n",
    "\n",
    "ax.set(aspect=\"equal\", title='Usage of EDAM concepts (version 1.25) in Bio.tools (by subset) \\n Operation')\n",
    "plt.show()\n",
    "fig.savefig(\"./figures/1-25_operation_usage.png\")"
   ]
  },
  {
   "cell_type": "markdown",
   "metadata": {},
   "source": [
    "## Data"
   ]
  },
  {
   "cell_type": "code",
   "execution_count": 21,
   "metadata": {},
   "outputs": [],
   "source": [
    "q_data_non_obs = \"\"\"\n",
    "PREFIX rdf: <http://www.w3.org/1999/02/22-rdf-syntax-ns#>\n",
    "PREFIX rdfs: <http://www.w3.org/2000/01/rdf-schema#>\n",
    "PREFIX sc: <http://schema.org/>\n",
    "PREFIX bsc: <http://bioschemas.org/>\n",
    "PREFIX edam: <http://edamontology.org/>\n",
    "PREFIX owl: <http://www.w3.org/2002/07/owl#>\n",
    "\n",
    "\n",
    "SELECT DISTINCT ?data  WHERE {\n",
    "?data rdfs:subClassOf* <http://edamontology.org/data_0006> .\n",
    "}\n",
    "\"\"\"\n",
    "\n",
    "q_data_obs = \"\"\" \n",
    "PREFIX rdf: <http://www.w3.org/1999/02/22-rdf-syntax-ns#>\n",
    "PREFIX rdfs: <http://www.w3.org/2000/01/rdf-schema#>\n",
    "PREFIX sc: <http://schema.org/>\n",
    "PREFIX bsc: <http://bioschemas.org/>\n",
    "PREFIX edam: <http://edamontology.org/>\n",
    "PREFIX owl: <http://www.w3.org/2002/07/owl#>\n",
    "\n",
    "SELECT DISTINCT ?data  WHERE {\n",
    "    ?data a owl:Class .\n",
    "    BIND(strafter(str(?data), \"org/\") AS ?id) .\n",
    "    BIND(strbefore(str(?id), \"_\") AS ?subset) .\n",
    "    FILTER(?subset = \"data\")\n",
    "    ?data owl:deprecated \"true\" .\n",
    "}\n",
    "\"\"\"\n",
    "\n",
    "q_data_new = \"\"\" \n",
    "PREFIX rdf: <http://www.w3.org/1999/02/22-rdf-syntax-ns#>\n",
    "PREFIX rdfs: <http://www.w3.org/2000/01/rdf-schema#>\n",
    "PREFIX sc: <http://schema.org/>\n",
    "PREFIX bsc: <http://bioschemas.org/>\n",
    "PREFIX edam: <http://edamontology.org/>\n",
    "PREFIX owl: <http://www.w3.org/2002/07/owl#>\n",
    "\n",
    "\n",
    "SELECT DISTINCT ?data  WHERE {\n",
    "?data rdfs:subClassOf* <http://edamontology.org/data_0006> .\n",
    "?data edam:created_in '1.26'.\n",
    "}\n",
    "\"\"\"\n",
    "\n",
    "q_data_aux = \"\"\" \n",
    "PREFIX rdf: <http://www.w3.org/1999/02/22-rdf-syntax-ns#>\n",
    "PREFIX rdfs: <http://www.w3.org/2000/01/rdf-schema#>\n",
    "PREFIX sc: <http://schema.org/>\n",
    "PREFIX bsc: <http://bioschemas.org/>\n",
    "PREFIX edam: <http://edamontology.org/>\n",
    "PREFIX owl: <http://www.w3.org/2002/07/owl#>\n",
    "\n",
    "\n",
    "SELECT DISTINCT ?data  WHERE {\n",
    "?data rdfs:subClassOf* <http://edamontology.org/data_0006> .\n",
    "?data edam:notRecommendedForAnnotation \"true\".\n",
    "}\n",
    "\"\"\"\n",
    "\n",
    "q_data_bt=\"\"\"\n",
    "PREFIX rdf: <http://www.w3.org/1999/02/22-rdf-syntax-ns#>\n",
    "PREFIX rdfs: <http://www.w3.org/2000/01/rdf-schema#>\n",
    "PREFIX sc: <http://schema.org/>\n",
    "PREFIX bsc: <http://bioschemas.org/>\n",
    "PREFIX edam: <http://edamontology.org/>\n",
    "PREFIX owl: <http://www.w3.org/2002/07/owl#>\n",
    "\n",
    "SELECT DISTINCT ?data  WHERE {\n",
    "\n",
    "    {\n",
    "?biotools_id rdf:type <http://schema.org/SoftwareApplication> ;\n",
    "   bsc:input [sc:additionalType ?data].        \n",
    "    } UNION {\n",
    "?biotools_id rdf:type <http://schema.org/SoftwareApplication> ;\n",
    "   bsc:output [sc:additionalType ?data].        \n",
    "    }\n",
    "} \n",
    "\"\"\"\n",
    "\n",
    "q_data_obs_bt=\"\"\" \n",
    "PREFIX rdf: <http://www.w3.org/1999/02/22-rdf-syntax-ns#>\n",
    "PREFIX rdfs: <http://www.w3.org/2000/01/rdf-schema#>\n",
    "PREFIX sc: <http://schema.org/>\n",
    "PREFIX bsc: <http://bioschemas.org/>\n",
    "PREFIX edam: <http://edamontology.org/>\n",
    "PREFIX owl: <http://www.w3.org/2002/07/owl#>\n",
    "\n",
    "\n",
    "SELECT DISTINCT ?data  WHERE {\n",
    "\n",
    "    {\n",
    "?biotools_id rdf:type <http://schema.org/SoftwareApplication> ;\n",
    "   bsc:input [sc:additionalType ?data].        \n",
    "    } UNION {\n",
    "?biotools_id rdf:type <http://schema.org/SoftwareApplication> ;\n",
    "   bsc:output [sc:additionalType ?data].        \n",
    "    }\n",
    "?data owl:deprecated \"true\" . \n",
    "}\n",
    "\"\"\"\n",
    "\n",
    "q_data_aux_bt=\"\"\" \n",
    "PREFIX rdf: <http://www.w3.org/1999/02/22-rdf-syntax-ns#>\n",
    "PREFIX rdfs: <http://www.w3.org/2000/01/rdf-schema#>\n",
    "PREFIX sc: <http://schema.org/>\n",
    "PREFIX bsc: <http://bioschemas.org/>\n",
    "PREFIX edam: <http://edamontology.org/>\n",
    "PREFIX owl: <http://www.w3.org/2002/07/owl#>\n",
    "\n",
    "\n",
    "SELECT DISTINCT ?data  WHERE {\n",
    "\n",
    "    {\n",
    "?biotools_id rdf:type <http://schema.org/SoftwareApplication> ;\n",
    "   bsc:input [sc:additionalType ?data].        \n",
    "    } UNION {\n",
    "?biotools_id rdf:type <http://schema.org/SoftwareApplication> ;\n",
    "   bsc:output [sc:additionalType ?data].        \n",
    "    }\n",
    "?data edam:notRecommendedForAnnotation \"true\".\n",
    "}\n",
    "\"\"\""
   ]
  },
  {
   "cell_type": "code",
   "execution_count": 22,
   "metadata": {},
   "outputs": [
    {
     "name": "stdout",
     "output_type": "stream",
     "text": [
      "a) nb_data_non_obs: 949\n",
      "b) nb_data_obs: 541\n",
      "c) nb_data_new: 0\n",
      "d) nb_data_aux: 117\n",
      "e) nb_data_bt: 559\n",
      "f) nb_data_obs_bt: 14\n",
      "g) nb_data_aux_bt: 53\n",
      "nb_data_valid_bt: 492\n",
      "nb_data_aux_not_bt: 64\n",
      "nb_data_valid_not_bt: 340\n",
      "nb_data_obs_not_bt: 527\n"
     ]
    }
   ],
   "source": [
    "data_non_obs=remoteQuery(query=q_data_non_obs, endpoint=ep_biotools)\n",
    "nb_data_non_obs=int(len(data_non_obs))\n",
    "print(f\"a) nb_data_non_obs: {nb_data_non_obs}\")\n",
    "\n",
    "data_obs=remoteQuery(query=q_data_obs, endpoint=ep_biotools)\n",
    "nb_data_obs=int(len(data_obs))\n",
    "print(f\"b) nb_data_obs: {nb_data_obs}\")\n",
    "\n",
    "data_new=remoteQuery(query=q_data_new, endpoint=ep_biotools)\n",
    "nb_data_new=int(len(data_new))\n",
    "print(f\"c) nb_data_new: {nb_data_new}\")\n",
    "\n",
    "data_aux=remoteQuery(query=q_data_aux, endpoint=ep_biotools)\n",
    "nb_data_aux=int(len(data_aux))\n",
    "print(f\"d) nb_data_aux: {nb_data_aux}\")\n",
    "\n",
    "data_bt=remoteQuery(query=q_data_bt, endpoint=ep_biotools)\n",
    "nb_data_bt=int(len(data_bt))\n",
    "print(f\"e) nb_data_bt: {nb_data_bt}\")\n",
    "\n",
    "data_obs_bt=remoteQuery(query=q_data_obs_bt, endpoint=ep_biotools)\n",
    "nb_data_obs_bt=int(len(data_obs_bt))\n",
    "print(f\"f) nb_data_obs_bt: {nb_data_obs_bt}\")\n",
    "\n",
    "data_aux_bt=remoteQuery(query=q_data_aux_bt, endpoint=ep_biotools)\n",
    "nb_data_aux_bt=int(len(data_aux_bt))\n",
    "print(f\"g) nb_data_aux_bt: {nb_data_aux_bt}\")\n",
    "\n",
    "nb_data_valid_bt=nb_data_bt-nb_data_obs_bt-nb_data_aux_bt\n",
    "nb_data_aux_not_bt=nb_data_aux-nb_data_aux_bt\n",
    "nb_data_valid_not_bt=nb_data_non_obs-nb_data_new-nb_data_aux-nb_data_valid_bt\n",
    "nb_data_obs_not_bt=nb_data_obs-nb_data_obs_bt\n",
    "\n",
    "print(f\"nb_data_valid_bt: {nb_data_valid_bt}\")\n",
    "print(f\"nb_data_aux_not_bt: {nb_data_aux_not_bt}\")\n",
    "print(f\"nb_data_valid_not_bt: {nb_data_valid_not_bt}\")\n",
    "print(f\"nb_data_obs_not_bt: {nb_data_obs_not_bt}\")\n",
    "\n"
   ]
  },
  {
   "cell_type": "code",
   "execution_count": 23,
   "metadata": {},
   "outputs": [
    {
     "data": {
      "image/png": "[encoded data removed]",
      "text/plain": [
       "<Figure size 720x720 with 1 Axes>"
      ]
     },
     "metadata": {},
     "output_type": "display_data"
    }
   ],
   "source": [
    "fig, ax = plt.subplots(figsize = (10, 10))\n",
    "# fig.patch.set_facecolor('xkcd:white')\n",
    "\n",
    "\n",
    "vals = np.array([[nb_data_obs_not_bt, nb_data_valid_not_bt, nb_data_aux_not_bt], [nb_data_aux_bt, nb_data_valid_bt, nb_data_obs_bt]])\n",
    "\n",
    "cmap = plt.get_cmap(\"tab20c\")\n",
    "outer_colors = cmap(np.array([19,16]))\n",
    "inner_colors = cmap(np.array([11,7,14,12,4,8]))\n",
    "\n",
    "ax.pie(vals.sum(axis=1),radius=1-0.3, colors=outer_colors,\n",
    "       wedgeprops=dict(width=0.2, edgecolor='w'))\n",
    "\n",
    "ax.pie(vals.flatten(), radius=1, colors=inner_colors,\n",
    "       wedgeprops=dict(width=0.3, edgecolor='w'))\n",
    "\n",
    "ax.set(aspect=\"equal\", title='Usage of EDAM concepts (version 1.25) in Bio.tools (by subset) \\n Data')\n",
    "plt.show()\n",
    "fig.savefig(\"./figures/1-25_data_usage.png\")"
   ]
  },
  {
   "cell_type": "markdown",
   "metadata": {},
   "source": [
    "## Format"
   ]
  },
  {
   "cell_type": "code",
   "execution_count": 5,
   "metadata": {},
   "outputs": [],
   "source": [
    "q_format_non_obs = \"\"\"\n",
    "PREFIX rdf: <http://www.w3.org/1999/02/22-rdf-syntax-ns#>\n",
    "PREFIX rdfs: <http://www.w3.org/2000/01/rdf-schema#>\n",
    "PREFIX sc: <http://schema.org/>\n",
    "PREFIX bsc: <http://bioschemas.org/>\n",
    "PREFIX edam: <http://edamontology.org/>\n",
    "PREFIX owl: <http://www.w3.org/2002/07/owl#>\n",
    "\n",
    "\n",
    "SELECT DISTINCT ?format  WHERE {\n",
    "?format rdfs:subClassOf* <http://edamontology.org/format_1915> .\n",
    "}\n",
    "\"\"\"\n",
    "\n",
    "q_format_obs = \"\"\" \n",
    "PREFIX rdf: <http://www.w3.org/1999/02/22-rdf-syntax-ns#>\n",
    "PREFIX rdfs: <http://www.w3.org/2000/01/rdf-schema#>\n",
    "PREFIX sc: <http://schema.org/>\n",
    "PREFIX bsc: <http://bioschemas.org/>\n",
    "PREFIX edam: <http://edamontology.org/>\n",
    "PREFIX owl: <http://www.w3.org/2002/07/owl#>\n",
    "\n",
    "SELECT DISTINCT ?format  WHERE {\n",
    "    ?format a owl:Class .\n",
    "    BIND(strafter(str(?format), \"org/\") AS ?id) .\n",
    "    BIND(strbefore(str(?id), \"_\") AS ?subset) .\n",
    "    FILTER(?subset = \"format\")\n",
    "    ?format owl:deprecated \"true\" .\n",
    "}\n",
    "\"\"\"\n",
    "\n",
    "q_format_new = \"\"\" \n",
    "PREFIX rdf: <http://www.w3.org/1999/02/22-rdf-syntax-ns#>\n",
    "PREFIX rdfs: <http://www.w3.org/2000/01/rdf-schema#>\n",
    "PREFIX sc: <http://schema.org/>\n",
    "PREFIX bsc: <http://bioschemas.org/>\n",
    "PREFIX edam: <http://edamontology.org/>\n",
    "PREFIX owl: <http://www.w3.org/2002/07/owl#>\n",
    "\n",
    "\n",
    "SELECT DISTINCT ?format  WHERE {\n",
    "?format rdfs:subClassOf* <http://edamontology.org/format_1915> .\n",
    "?format edam:created_in '1.26'.\n",
    "}\n",
    "\"\"\"\n",
    "\n",
    "q_format_aux = \"\"\" \n",
    "PREFIX rdf: <http://www.w3.org/1999/02/22-rdf-syntax-ns#>\n",
    "PREFIX rdfs: <http://www.w3.org/2000/01/rdf-schema#>\n",
    "PREFIX sc: <http://schema.org/>\n",
    "PREFIX bsc: <http://bioschemas.org/>\n",
    "PREFIX edam: <http://edamontology.org/>\n",
    "PREFIX owl: <http://www.w3.org/2002/07/owl#>\n",
    "\n",
    "\n",
    "SELECT DISTINCT ?format  WHERE {\n",
    "?format rdfs:subClassOf* <http://edamontology.org/format_1915> .\n",
    "?format edam:notRecommendedForAnnotation \"true\".\n",
    "}\n",
    "\"\"\"\n",
    "\n",
    "q_format_bt=\"\"\"\n",
    "PREFIX rdf: <http://www.w3.org/1999/02/22-rdf-syntax-ns#>\n",
    "PREFIX rdfs: <http://www.w3.org/2000/01/rdf-schema#>\n",
    "PREFIX sc: <http://schema.org/>\n",
    "PREFIX bsc: <http://bioschemas.org/>\n",
    "PREFIX edam: <http://edamontology.org/>\n",
    "PREFIX owl: <http://www.w3.org/2002/07/owl#>\n",
    "\n",
    "SELECT DISTINCT ?format  WHERE {\n",
    "\n",
    "    {\n",
    "?biotools_id rdf:type <http://schema.org/SoftwareApplication> ;\n",
    "   bsc:input [sc:encodingFormat ?format].        \n",
    "    } UNION {\n",
    "?biotools_id rdf:type <http://schema.org/SoftwareApplication> ;\n",
    "   bsc:output [sc:encodingFormat ?format].        \n",
    "    }\n",
    "} \n",
    "\"\"\"\n",
    "\n",
    "q_format_obs_bt=\"\"\" \n",
    "PREFIX rdf: <http://www.w3.org/1999/02/22-rdf-syntax-ns#>\n",
    "PREFIX rdfs: <http://www.w3.org/2000/01/rdf-schema#>\n",
    "PREFIX sc: <http://schema.org/>\n",
    "PREFIX bsc: <http://bioschemas.org/>\n",
    "PREFIX edam: <http://edamontology.org/>\n",
    "PREFIX owl: <http://www.w3.org/2002/07/owl#>\n",
    "\n",
    "\n",
    "SELECT DISTINCT ?format  WHERE {\n",
    "\n",
    "    {\n",
    "?biotools_id rdf:type <http://schema.org/SoftwareApplication> ;\n",
    "   bsc:input [sc:encodingFormat ?format].        \n",
    "    } UNION {\n",
    "?biotools_id rdf:type <http://schema.org/SoftwareApplication> ;\n",
    "   bsc:output [sc:encodingFormat ?format].        \n",
    "    }\n",
    "?format owl:deprecated \"true\" . \n",
    "}\n",
    "\"\"\"\n",
    "\n",
    "q_format_aux_bt=\"\"\" \n",
    "PREFIX rdf: <http://www.w3.org/1999/02/22-rdf-syntax-ns#>\n",
    "PREFIX rdfs: <http://www.w3.org/2000/01/rdf-schema#>\n",
    "PREFIX sc: <http://schema.org/>\n",
    "PREFIX bsc: <http://bioschemas.org/>\n",
    "PREFIX edam: <http://edamontology.org/>\n",
    "PREFIX owl: <http://www.w3.org/2002/07/owl#>\n",
    "\n",
    "\n",
    "SELECT DISTINCT ?format  WHERE {\n",
    "\n",
    "    {\n",
    "?biotools_id rdf:type <http://schema.org/SoftwareApplication> ;\n",
    "   bsc:input [sc:encodingFormat ?format].        \n",
    "    } UNION {\n",
    "?biotools_id rdf:type <http://schema.org/SoftwareApplication> ;\n",
    "   bsc:output [sc:encodingFormat ?format].        \n",
    "    }\n",
    "?format edam:notRecommendedForAnnotation \"true\".\n",
    "}\n",
    "\"\"\""
   ]
  },
  {
   "cell_type": "code",
   "execution_count": 6,
   "metadata": {},
   "outputs": [
    {
     "name": "stdout",
     "output_type": "stream",
     "text": [
      "a) nb_format_non_obs: 612\n",
      "b) nb_format_obs: 116\n",
      "c) nb_format_new: 0\n",
      "d) nb_format_aux: 64\n",
      "e) nb_format_bt: 307\n",
      "f) nb_format_obs_bt: 0\n",
      "g) nb_format_aux_bt: 43\n",
      "nb_format_valid_bt: 264\n",
      "nb_format_aux_not_bt: 21\n",
      "nb_format_valid_not_bt: 284\n",
      "nb_format_obs_not_bt: 116\n"
     ]
    }
   ],
   "source": [
    "format_non_obs=remoteQuery(query=q_format_non_obs, endpoint=ep_biotools)\n",
    "nb_format_non_obs=int(len(format_non_obs))\n",
    "print(f\"a) nb_format_non_obs: {nb_format_non_obs}\")\n",
    "\n",
    "format_obs=remoteQuery(query=q_format_obs, endpoint=ep_biotools)\n",
    "nb_format_obs=int(len(format_obs))\n",
    "print(f\"b) nb_format_obs: {nb_format_obs}\")\n",
    "\n",
    "format_new=remoteQuery(query=q_format_new, endpoint=ep_biotools)\n",
    "nb_format_new=int(len(format_new))\n",
    "print(f\"c) nb_format_new: {nb_format_new}\")\n",
    "\n",
    "format_aux=remoteQuery(query=q_format_aux, endpoint=ep_biotools)\n",
    "nb_format_aux=int(len(format_aux))\n",
    "print(f\"d) nb_format_aux: {nb_format_aux}\")\n",
    "\n",
    "format_bt=remoteQuery(query=q_format_bt, endpoint=ep_biotools)\n",
    "nb_format_bt=int(len(format_bt))\n",
    "print(f\"e) nb_format_bt: {nb_format_bt}\")\n",
    "\n",
    "format_obs_bt=remoteQuery(query=q_format_obs_bt, endpoint=ep_biotools)\n",
    "nb_format_obs_bt=int(len(format_obs_bt))\n",
    "print(f\"f) nb_format_obs_bt: {nb_format_obs_bt}\")\n",
    "\n",
    "format_aux_bt=remoteQuery(query=q_format_aux_bt, endpoint=ep_biotools)\n",
    "nb_format_aux_bt=int(len(format_aux_bt))\n",
    "print(f\"g) nb_format_aux_bt: {nb_format_aux_bt}\")\n",
    "\n",
    "nb_format_valid_bt=nb_format_bt-nb_format_obs_bt-nb_format_aux_bt\n",
    "nb_format_aux_not_bt=nb_format_aux-nb_format_aux_bt\n",
    "nb_format_valid_not_bt=nb_format_non_obs-nb_format_new-nb_format_aux-nb_format_valid_bt\n",
    "nb_format_obs_not_bt=nb_format_obs-nb_format_obs_bt\n",
    "\n",
    "print(f\"nb_format_valid_bt: {nb_format_valid_bt}\")\n",
    "print(f\"nb_format_aux_not_bt: {nb_format_aux_not_bt}\")\n",
    "print(f\"nb_format_valid_not_bt: {nb_format_valid_not_bt}\")\n",
    "print(f\"nb_format_obs_not_bt: {nb_format_obs_not_bt}\")"
   ]
  },
  {
   "cell_type": "code",
   "execution_count": 7,
   "metadata": {},
   "outputs": [
    {
     "data": {
      "image/png": "[encoded data removed]",
      "text/plain": [
       "<Figure size 720x720 with 1 Axes>"
      ]
     },
     "metadata": {},
     "output_type": "display_data"
    }
   ],
   "source": [
    "fig, ax = plt.subplots(figsize = (10, 10))\n",
    "# fig.patch.set_facecolor('xkcd:white')\n",
    "\n",
    "\n",
    "vals = np.array([[nb_format_obs_not_bt, nb_format_valid_not_bt, nb_format_aux_not_bt], [nb_format_aux_bt, nb_format_valid_bt, nb_format_obs_bt]])\n",
    "\n",
    "cmap = plt.get_cmap(\"tab20c\")\n",
    "outer_colors = cmap(np.array([19,16]))\n",
    "inner_colors = cmap(np.array([11,7,14,12,4,8]))\n",
    "\n",
    "# ax.pie(vals.sum(axis=1), labels=[\"Usused\",\"Used\"],radius=1-0.3, colors=outer_colors,\n",
    "#        wedgeprops=dict(width=0.2, edgecolor='w'),autopct=lambda pct: func(pct, vals.sum(axis=1)))\n",
    "\n",
    "# ax.pie(vals.flatten(), radius=1, colors=inner_colors,\n",
    "#        wedgeprops=dict(width=0.3, edgecolor='w'),autopct=lambda pct: func(pct, vals.sum(axis=1)))\n",
    "\n",
    "ax.pie(vals.sum(axis=1),radius=1-0.3, colors=outer_colors,\n",
    "       wedgeprops=dict(width=0.2, edgecolor='w'))\n",
    "\n",
    "ax.pie(vals.flatten(), radius=1, colors=inner_colors,\n",
    "       wedgeprops=dict(width=0.3, edgecolor='w'))\n",
    "\n",
    "ax.set(aspect=\"equal\", title='Usage of EDAM concepts (version 1.25) in Bio.tools (by subset) \\n Format')\n",
    "plt.show()\n",
    "fig.savefig(\"./figures/1-25_format_usage.png\")"
   ]
  },
  {
   "cell_type": "code",
   "execution_count": 46,
   "metadata": {},
   "outputs": [
    {
     "data": {
      "application/vnd.plotly.v1+json": {
       "config": {
        "plotlyServerURL": "https://plot.ly"
       },
       "data": [
        {
         "branchvalues": "total",
         "domain": {
          "x": [
           0,
           1
          ],
          "y": [
           0,
           1
          ]
         },
         "hovertemplate": "categories=%{label}<br>value=%{value}<br>parent=%{parent}<extra></extra>",
         "labels": [
          "EDAM",
          "Unused",
          "Used",
          "A1",
          "A2",
          "A3",
          "A4",
          "B1",
          "B2",
          "B3"
         ],
         "name": "",
         "parents": [
          "",
          "EDAM",
          "EDAM",
          "Unused",
          "Unused",
          "Unused",
          "Unused",
          "Used",
          "Used",
          "Used"
         ],
         "type": "sunburst",
         "values": [
          736,
          482,
          254,
          117,
          8,
          333,
          24,
          40,
          214,
          0
         ]
        }
       ],
       "layout": {
        "legend": {
         "tracegroupgap": 0
        },
        "margin": {
         "t": 60
        },
        "template": {
         "data": {
          "bar": [
           {
            "error_x": {
             "color": "#2a3f5f"
            },
            "error_y": {
             "color": "#2a3f5f"
            },
            "marker": {
             "line": {
              "color": "#E5ECF6",
              "width": 0.5
             },
             "pattern": {
              "fillmode": "overlay",
              "size": 10,
              "solidity": 0.2
             }
            },
            "type": "bar"
           }
          ],
          "barpolar": [
           {
            "marker": {
             "line": {
              "color": "#E5ECF6",
              "width": 0.5
             },
             "pattern": {
              "fillmode": "overlay",
              "size": 10,
              "solidity": 0.2
             }
            },
            "type": "barpolar"
           }
          ],
          "carpet": [
           {
            "aaxis": {
             "endlinecolor": "#2a3f5f",
             "gridcolor": "white",
             "linecolor": "white",
             "minorgridcolor": "white",
             "startlinecolor": "#2a3f5f"
            },
            "baxis": {
             "endlinecolor": "#2a3f5f",
             "gridcolor": "white",
             "linecolor": "white",
             "minorgridcolor": "white",
             "startlinecolor": "#2a3f5f"
            },
            "type": "carpet"
           }
          ],
          "choropleth": [
           {
            "colorbar": {
             "outlinewidth": 0,
             "ticks": ""
            },
            "type": "choropleth"
           }
          ],
          "contour": [
           {
            "colorbar": {
             "outlinewidth": 0,
             "ticks": ""
            },
            "colorscale": [
             [
              0,
              "#0d0887"
             ],
             [
              0.1111111111111111,
              "#46039f"
             ],
             [
              0.2222222222222222,
              "#7201a8"
             ],
             [
              0.3333333333333333,
              "#9c179e"
             ],
             [
              0.4444444444444444,
              "#bd3786"
             ],
             [
              0.5555555555555556,
              "#d8576b"
             ],
             [
              0.6666666666666666,
              "#ed7953"
             ],
             [
              0.7777777777777778,
              "#fb9f3a"
             ],
             [
              0.8888888888888888,
              "#fdca26"
             ],
             [
              1,
              "#f0f921"
             ]
            ],
            "type": "contour"
           }
          ],
          "contourcarpet": [
           {
            "colorbar": {
             "outlinewidth": 0,
             "ticks": ""
            },
            "type": "contourcarpet"
           }
          ],
          "heatmap": [
           {
            "colorbar": {
             "outlinewidth": 0,
             "ticks": ""
            },
            "colorscale": [
             [
              0,
              "#0d0887"
             ],
             [
              0.1111111111111111,
              "#46039f"
             ],
             [
              0.2222222222222222,
              "#7201a8"
             ],
             [
              0.3333333333333333,
              "#9c179e"
             ],
             [
              0.4444444444444444,
              "#bd3786"
             ],
             [
              0.5555555555555556,
              "#d8576b"
             ],
             [
              0.6666666666666666,
              "#ed7953"
             ],
             [
              0.7777777777777778,
              "#fb9f3a"
             ],
             [
              0.8888888888888888,
              "#fdca26"
             ],
             [
              1,
              "#f0f921"
             ]
            ],
            "type": "heatmap"
           }
          ],
          "heatmapgl": [
           {
            "colorbar": {
             "outlinewidth": 0,
             "ticks": ""
            },
            "colorscale": [
             [
              0,
              "#0d0887"
             ],
             [
              0.1111111111111111,
              "#46039f"
             ],
             [
              0.2222222222222222,
              "#7201a8"
             ],
             [
              0.3333333333333333,
              "#9c179e"
             ],
             [
              0.4444444444444444,
              "#bd3786"
             ],
             [
              0.5555555555555556,
              "#d8576b"
             ],
             [
              0.6666666666666666,
              "#ed7953"
             ],
             [
              0.7777777777777778,
              "#fb9f3a"
             ],
             [
              0.8888888888888888,
              "#fdca26"
             ],
             [
              1,
              "#f0f921"
             ]
            ],
            "type": "heatmapgl"
           }
          ],
          "histogram": [
           {
            "marker": {
             "pattern": {
              "fillmode": "overlay",
              "size": 10,
              "solidity": 0.2
             }
            },
            "type": "histogram"
           }
          ],
          "histogram2d": [
           {
            "colorbar": {
             "outlinewidth": 0,
             "ticks": ""
            },
            "colorscale": [
             [
              0,
              "#0d0887"
             ],
             [
              0.1111111111111111,
              "#46039f"
             ],
             [
              0.2222222222222222,
              "#7201a8"
             ],
             [
              0.3333333333333333,
              "#9c179e"
             ],
             [
              0.4444444444444444,
              "#bd3786"
             ],
             [
              0.5555555555555556,
              "#d8576b"
             ],
             [
              0.6666666666666666,
              "#ed7953"
             ],
             [
              0.7777777777777778,
              "#fb9f3a"
             ],
             [
              0.8888888888888888,
              "#fdca26"
             ],
             [
              1,
              "#f0f921"
             ]
            ],
            "type": "histogram2d"
           }
          ],
          "histogram2dcontour": [
           {
            "colorbar": {
             "outlinewidth": 0,
             "ticks": ""
            },
            "colorscale": [
             [
              0,
              "#0d0887"
             ],
             [
              0.1111111111111111,
              "#46039f"
             ],
             [
              0.2222222222222222,
              "#7201a8"
             ],
             [
              0.3333333333333333,
              "#9c179e"
             ],
             [
              0.4444444444444444,
              "#bd3786"
             ],
             [
              0.5555555555555556,
              "#d8576b"
             ],
             [
              0.6666666666666666,
              "#ed7953"
             ],
             [
              0.7777777777777778,
              "#fb9f3a"
             ],
             [
              0.8888888888888888,
              "#fdca26"
             ],
             [
              1,
              "#f0f921"
             ]
            ],
            "type": "histogram2dcontour"
           }
          ],
          "mesh3d": [
           {
            "colorbar": {
             "outlinewidth": 0,
             "ticks": ""
            },
            "type": "mesh3d"
           }
          ],
          "parcoords": [
           {
            "line": {
             "colorbar": {
              "outlinewidth": 0,
              "ticks": ""
             }
            },
            "type": "parcoords"
           }
          ],
          "pie": [
           {
            "automargin": true,
            "type": "pie"
           }
          ],
          "scatter": [
           {
            "fillpattern": {
             "fillmode": "overlay",
             "size": 10,
             "solidity": 0.2
            },
            "type": "scatter"
           }
          ],
          "scatter3d": [
           {
            "line": {
             "colorbar": {
              "outlinewidth": 0,
              "ticks": ""
             }
            },
            "marker": {
             "colorbar": {
              "outlinewidth": 0,
              "ticks": ""
             }
            },
            "type": "scatter3d"
           }
          ],
          "scattercarpet": [
           {
            "marker": {
             "colorbar": {
              "outlinewidth": 0,
              "ticks": ""
             }
            },
            "type": "scattercarpet"
           }
          ],
          "scattergeo": [
           {
            "marker": {
             "colorbar": {
              "outlinewidth": 0,
              "ticks": ""
             }
            },
            "type": "scattergeo"
           }
          ],
          "scattergl": [
           {
            "marker": {
             "colorbar": {
              "outlinewidth": 0,
              "ticks": ""
             }
            },
            "type": "scattergl"
           }
          ],
          "scattermapbox": [
           {
            "marker": {
             "colorbar": {
              "outlinewidth": 0,
              "ticks": ""
             }
            },
            "type": "scattermapbox"
           }
          ],
          "scatterpolar": [
           {
            "marker": {
             "colorbar": {
              "outlinewidth": 0,
              "ticks": ""
             }
            },
            "type": "scatterpolar"
           }
          ],
          "scatterpolargl": [
           {
            "marker": {
             "colorbar": {
              "outlinewidth": 0,
              "ticks": ""
             }
            },
            "type": "scatterpolargl"
           }
          ],
          "scatterternary": [
           {
            "marker": {
             "colorbar": {
              "outlinewidth": 0,
              "ticks": ""
             }
            },
            "type": "scatterternary"
           }
          ],
          "surface": [
           {
            "colorbar": {
             "outlinewidth": 0,
             "ticks": ""
            },
            "colorscale": [
             [
              0,
              "#0d0887"
             ],
             [
              0.1111111111111111,
              "#46039f"
             ],
             [
              0.2222222222222222,
              "#7201a8"
             ],
             [
              0.3333333333333333,
              "#9c179e"
             ],
             [
              0.4444444444444444,
              "#bd3786"
             ],
             [
              0.5555555555555556,
              "#d8576b"
             ],
             [
              0.6666666666666666,
              "#ed7953"
             ],
             [
              0.7777777777777778,
              "#fb9f3a"
             ],
             [
              0.8888888888888888,
              "#fdca26"
             ],
             [
              1,
              "#f0f921"
             ]
            ],
            "type": "surface"
           }
          ],
          "table": [
           {
            "cells": {
             "fill": {
              "color": "#EBF0F8"
             },
             "line": {
              "color": "white"
             }
            },
            "header": {
             "fill": {
              "color": "#C8D4E3"
             },
             "line": {
              "color": "white"
             }
            },
            "type": "table"
           }
          ]
         },
         "layout": {
          "annotationdefaults": {
           "arrowcolor": "#2a3f5f",
           "arrowhead": 0,
           "arrowwidth": 1
          },
          "autotypenumbers": "strict",
          "coloraxis": {
           "colorbar": {
            "outlinewidth": 0,
            "ticks": ""
           }
          },
          "colorscale": {
           "diverging": [
            [
             0,
             "#8e0152"
            ],
            [
             0.1,
             "#c51b7d"
            ],
            [
             0.2,
             "#de77ae"
            ],
            [
             0.3,
             "#f1b6da"
            ],
            [
             0.4,
             "#fde0ef"
            ],
            [
             0.5,
             "#f7f7f7"
            ],
            [
             0.6,
             "#e6f5d0"
            ],
            [
             0.7,
             "#b8e186"
            ],
            [
             0.8,
             "#7fbc41"
            ],
            [
             0.9,
             "#4d9221"
            ],
            [
             1,
             "#276419"
            ]
           ],
           "sequential": [
            [
             0,
             "#0d0887"
            ],
            [
             0.1111111111111111,
             "#46039f"
            ],
            [
             0.2222222222222222,
             "#7201a8"
            ],
            [
             0.3333333333333333,
             "#9c179e"
            ],
            [
             0.4444444444444444,
             "#bd3786"
            ],
            [
             0.5555555555555556,
             "#d8576b"
            ],
            [
             0.6666666666666666,
             "#ed7953"
            ],
            [
             0.7777777777777778,
             "#fb9f3a"
            ],
            [
             0.8888888888888888,
             "#fdca26"
            ],
            [
             1,
             "#f0f921"
            ]
           ],
           "sequentialminus": [
            [
             0,
             "#0d0887"
            ],
            [
             0.1111111111111111,
             "#46039f"
            ],
            [
             0.2222222222222222,
             "#7201a8"
            ],
            [
             0.3333333333333333,
             "#9c179e"
            ],
            [
             0.4444444444444444,
             "#bd3786"
            ],
            [
             0.5555555555555556,
             "#d8576b"
            ],
            [
             0.6666666666666666,
             "#ed7953"
            ],
            [
             0.7777777777777778,
             "#fb9f3a"
            ],
            [
             0.8888888888888888,
             "#fdca26"
            ],
            [
             1,
             "#f0f921"
            ]
           ]
          },
          "colorway": [
           "#636efa",
           "#EF553B",
           "#00cc96",
           "#ab63fa",
           "#FFA15A",
           "#19d3f3",
           "#FF6692",
           "#B6E880",
           "#FF97FF",
           "#FECB52"
          ],
          "font": {
           "color": "#2a3f5f"
          },
          "geo": {
           "bgcolor": "white",
           "lakecolor": "white",
           "landcolor": "#E5ECF6",
           "showlakes": true,
           "showland": true,
           "subunitcolor": "white"
          },
          "hoverlabel": {
           "align": "left"
          },
          "hovermode": "closest",
          "mapbox": {
           "style": "light"
          },
          "paper_bgcolor": "white",
          "plot_bgcolor": "#E5ECF6",
          "polar": {
           "angularaxis": {
            "gridcolor": "white",
            "linecolor": "white",
            "ticks": ""
           },
           "bgcolor": "#E5ECF6",
           "radialaxis": {
            "gridcolor": "white",
            "linecolor": "white",
            "ticks": ""
           }
          },
          "scene": {
           "xaxis": {
            "backgroundcolor": "#E5ECF6",
            "gridcolor": "white",
            "gridwidth": 2,
            "linecolor": "white",
            "showbackground": true,
            "ticks": "",
            "zerolinecolor": "white"
           },
           "yaxis": {
            "backgroundcolor": "#E5ECF6",
            "gridcolor": "white",
            "gridwidth": 2,
            "linecolor": "white",
            "showbackground": true,
            "ticks": "",
            "zerolinecolor": "white"
           },
           "zaxis": {
            "backgroundcolor": "#E5ECF6",
            "gridcolor": "white",
            "gridwidth": 2,
            "linecolor": "white",
            "showbackground": true,
            "ticks": "",
            "zerolinecolor": "white"
           }
          },
          "shapedefaults": {
           "line": {
            "color": "#2a3f5f"
           }
          },
          "ternary": {
           "aaxis": {
            "gridcolor": "white",
            "linecolor": "white",
            "ticks": ""
           },
           "baxis": {
            "gridcolor": "white",
            "linecolor": "white",
            "ticks": ""
           },
           "bgcolor": "#E5ECF6",
           "caxis": {
            "gridcolor": "white",
            "linecolor": "white",
            "ticks": ""
           }
          },
          "title": {
           "x": 0.05
          },
          "xaxis": {
           "automargin": true,
           "gridcolor": "white",
           "linecolor": "white",
           "ticks": "",
           "title": {
            "standoff": 15
           },
           "zerolinecolor": "white",
           "zerolinewidth": 2
          },
          "yaxis": {
           "automargin": true,
           "gridcolor": "white",
           "linecolor": "white",
           "ticks": "",
           "title": {
            "standoff": 15
           },
           "zerolinecolor": "white",
           "zerolinewidth": 2
          }
         }
        }
       }
      }
     },
     "metadata": {},
     "output_type": "display_data"
    }
   ],
   "source": [
    "import plotly.express as px\n",
    "\n",
    "vals = np.array([[nb_format_obs_not_bt, nb_format_new, nb_format_valid_not_bt, nb_format_aux_not_bt], [nb_format_aux_bt, nb_format_valid_bt, nb_format_obs_bt,0]])\n",
    "sum=vals.sum(axis=1)\n",
    "\n",
    "data = dict(\n",
    "    categories = ['EDAM', 'Unused', 'Used',\n",
    "                  'A1', 'A2', 'A3', 'A4',\n",
    "                  'B1', 'B2', 'B3'],\n",
    "    parent = ['',   'EDAM', 'EDAM',\n",
    "                    'Unused', 'Unused','Unused', 'Unused',\n",
    "                    'Used', 'Used', 'Used'],\n",
    "    value = [vals.sum(),   sum[0],sum[1],\n",
    "                    nb_format_obs_not_bt, nb_format_new, nb_format_valid_not_bt, nb_format_aux_not_bt,\n",
    "                    nb_format_aux_bt, nb_format_valid_bt, nb_format_obs_bt]\n",
    "            )\n",
    "\n",
    "fig = px.sunburst(data,\n",
    "                  names = 'categories',\n",
    "                  parents = 'parent',\n",
    "                  values = 'value',\n",
    "                  branchvalues = 'total')\n",
    "    \n",
    "fig.show() \n",
    " \n"
   ]
  },
  {
   "cell_type": "code",
   "execution_count": 36,
   "metadata": {},
   "outputs": [
    {
     "data": {
      "text/plain": [
       "array([ 40, 214,   0,   0])"
      ]
     },
     "execution_count": 36,
     "metadata": {},
     "output_type": "execute_result"
    }
   ],
   "source": [
    "vals[1]"
   ]
  },
  {
   "cell_type": "code",
   "execution_count": 43,
   "metadata": {},
   "outputs": [
    {
     "ename": "TypeError",
     "evalue": "'a' is an invalid keyword argument for print()",
     "output_type": "error",
     "traceback": [
      "\u001b[0;31m---------------------------------------------------------------------------\u001b[0m",
      "\u001b[0;31mTypeError\u001b[0m                                 Traceback (most recent call last)",
      "\u001b[1;32m/home/llamothe/work/biohackathon2022/notebooks/plot_lucie.ipynb Cell 22\u001b[0m in \u001b[0;36m<module>\u001b[0;34m\u001b[0m\n\u001b[0;32m----> <a href='vscode-notebook-cell:/home/llamothe/work/biohackathon2022/notebooks/plot_lucie.ipynb#X35sZmlsZQ%3D%3D?line=0'>1</a>\u001b[0m \u001b[39mprint\u001b[39;49m(a\u001b[39m=\u001b[39;49mvals[\u001b[39m0\u001b[39;49m]\u001b[39m.\u001b[39;49mappend(vals[\u001b[39m1\u001b[39;49m]))\n",
      "\u001b[0;31mTypeError\u001b[0m: 'a' is an invalid keyword argument for print()"
     ]
    }
   ],
   "source": [
    "print(a=vals[0].append(vals[1]))"
   ]
  },
  {
   "cell_type": "code",
   "execution_count": null,
   "metadata": {},
   "outputs": [],
   "source": []
  }
 ],
 "metadata": {
  "kernelspec": {
   "display_name": "Python 3.9.5 64-bit",
   "language": "python",
   "name": "python3"
  },
  "language_info": {
   "codemirror_mode": {
    "name": "ipython",
    "version": 3
   },
   "file_extension": ".py",
   "mimetype": "text/x-python",
   "name": "python",
   "nbconvert_exporter": "python",
   "pygments_lexer": "ipython3",
   "version": "3.9.5"
  },
  "orig_nbformat": 4,
  "vscode": {
   "interpreter": {
    "hash": "31f2aee4e71d21fbe5cf8b01ff0e069b9275f58929596ceb00d14d90e3e16cd6"
   }
  }
 },
 "nbformat": 4,
 "nbformat_minor": 2
}
